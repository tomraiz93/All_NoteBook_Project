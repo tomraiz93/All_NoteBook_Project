{
  "nbformat": 4,
  "nbformat_minor": 0,
  "metadata": {
    "colab": {
      "provenance": [],
      "authorship_tag": "ABX9TyMpltEnM3NJHha0PHG2M+Ry",
      "include_colab_link": true
    },
    "kernelspec": {
      "name": "python3",
      "display_name": "Python 3"
    },
    "language_info": {
      "name": "python"
    }
  },
  "cells": [
    {
      "cell_type": "markdown",
      "metadata": {
        "id": "view-in-github",
        "colab_type": "text"
      },
      "source": [
        "<a href=\"https://colab.research.google.com/github/tomraiz93/tam_project/blob/main/Basic_CNN_Deeplearning_project_Object_classification.ipynb\" target=\"_parent\"><img src=\"https://colab.research.google.com/assets/colab-badge.svg\" alt=\"Open In Colab\"/></a>"
      ]
    },
    {
      "cell_type": "markdown",
      "source": [
        "#Chuẩn bị dữ liệu\n",
        "- Sử dụng torchvision.datasets.CIFAR10 để tải và chuẩn bị dữ liệu CIFAR-10"
      ],
      "metadata": {
        "id": "zCzq64rtjOoy"
      }
    },
    {
      "cell_type": "code",
      "execution_count": 1,
      "metadata": {
        "colab": {
          "base_uri": "https://localhost:8080/"
        },
        "id": "o5rsgp2kioH-",
        "outputId": "9e0444ac-e2b7-4ead-c324-c8822d6afbb2"
      },
      "outputs": [
        {
          "output_type": "stream",
          "name": "stdout",
          "text": [
            "Downloading https://www.cs.toronto.edu/~kriz/cifar-10-python.tar.gz to ./data/cifar-10-python.tar.gz\n"
          ]
        },
        {
          "output_type": "stream",
          "name": "stderr",
          "text": [
            "100%|██████████| 170498071/170498071 [00:11<00:00, 14577348.87it/s]\n"
          ]
        },
        {
          "output_type": "stream",
          "name": "stdout",
          "text": [
            "Extracting ./data/cifar-10-python.tar.gz to ./data\n"
          ]
        }
      ],
      "source": [
        "import torch\n",
        "import torch.nn as nn\n",
        "import torch.optim as optim\n",
        "from torch.utils.data import DataLoader\n",
        "from torchvision import datasets, transforms\n",
        "\n",
        "# Chuẩn bị dữ liệu\n",
        "transform = transforms.Compose([\n",
        "    transforms.Resize((32, 32)),  # Resize ảnh về kích thước 32x32\n",
        "    transforms.ToTensor(),  # Chuyển ảnh sang tensor\n",
        "    transforms.Normalize((0.5, 0.5, 0.5), (0.5, 0.5, 0.5))  # Chuẩn hóa dữ liệu về [-1, 1]\n",
        "])\n",
        "\n",
        "train_dataset = datasets.CIFAR10(root='./data', train=True, transform=transform, download=True)\n",
        "test_dataset = datasets.CIFAR10(root='./data', train=False, transform=transform)\n",
        "\n",
        "train_dataloader = DataLoader(train_dataset, batch_size=64, shuffle=True)\n",
        "test_dataloader = DataLoader(test_dataset, batch_size=64, shuffle=False)"
      ]
    },
    {
      "cell_type": "markdown",
      "source": [
        "#CNN Model\n",
        "- Kế thừa từ nn.Module.\n",
        "- Bao gồm các lớp convolution, ReLU, max pooling và fully connected layers."
      ],
      "metadata": {
        "id": "FW76WjRqjcsD"
      }
    },
    {
      "cell_type": "code",
      "source": [
        "class CNN(nn.Module):\n",
        "    def __init__(self):\n",
        "        super(CNN, self).__init__()\n",
        "        self.conv1 = nn.Conv2d(3, 16, kernel_size=3, stride=1, padding=1)\n",
        "        self.relu1 = nn.ReLU()\n",
        "        self.maxpool1 = nn.MaxPool2d(kernel_size=2, stride=2)\n",
        "        self.conv2 = nn.Conv2d(16, 32, kernel_size=3, stride=1, padding=1)\n",
        "        self.relu2 = nn.ReLU()\n",
        "        self.maxpool2 = nn.MaxPool2d(kernel_size=2, stride=2)\n",
        "        self.fc1 = nn.Linear(8 * 8 * 32, 128)\n",
        "        self.relu3 = nn.ReLU()\n",
        "        self.fc2 = nn.Linear(128, 10)\n",
        "\n",
        "    def forward(self, x):\n",
        "        x = self.conv1(x)\n",
        "        x = self.relu1(x)\n",
        "        x = self.maxpool1(x)\n",
        "        x = self.conv2(x)\n",
        "        x = self.relu2(x)\n",
        "        x = self.maxpool2(x)\n",
        "        x = x.view(x.size(0), -1)\n",
        "        x = self.fc1(x)\n",
        "        x = self.relu3(x)\n",
        "        x = self.fc2(x)\n",
        "        return x"
      ],
      "metadata": {
        "id": "UVQMsgz1jfPI"
      },
      "execution_count": 2,
      "outputs": []
    },
    {
      "cell_type": "markdown",
      "source": [
        "#Khởi tạo mô hình tối ưu"
      ],
      "metadata": {
        "id": "O7OynTq4joQu"
      }
    },
    {
      "cell_type": "code",
      "source": [
        "model = CNN()\n",
        "criterion = nn.CrossEntropyLoss()\n",
        "optimizer = optim.Adam(model.parameters(), lr=0.001)"
      ],
      "metadata": {
        "id": "wHl6TmhRjrvo"
      },
      "execution_count": 3,
      "outputs": []
    },
    {
      "cell_type": "markdown",
      "source": [
        "#Huấn luyện mô hình"
      ],
      "metadata": {
        "id": "Z1XZw5rhjtLv"
      }
    },
    {
      "cell_type": "code",
      "source": [
        "device = torch.device(\"cuda\" if torch.cuda.is_available() else \"cpu\")\n",
        "model.to(device)\n",
        "\n",
        "num_epochs = 10\n",
        "train_loss_values = []\n",
        "test_loss_values = []\n",
        "test_accuracy_values = []\n",
        "\n",
        "for epoch in range(num_epochs):\n",
        "    model.train()\n",
        "    train_loss = 0.0\n",
        "    correct = 0\n",
        "    total = 0\n",
        "\n",
        "    for images, labels in train_dataloader:\n",
        "        images = images.to(device)\n",
        "        labels = labels.to(device)\n",
        "\n",
        "        optimizer.zero_grad()\n",
        "        outputs = model(images)\n",
        "        loss = criterion(outputs, labels)\n",
        "        loss.backward()\n",
        "        optimizer.step()\n",
        "\n",
        "        train_loss += loss.item()\n",
        "        _, predicted = outputs.max(1)\n",
        "        total += labels.size(0)\n",
        "        correct += predicted.eq(labels).sum().item()\n",
        "\n",
        "    train_loss /= len(train_dataloader)\n",
        "    train_accuracy = correct / total\n",
        "    train_loss_values.append(train_loss)\n",
        "\n",
        "    model.eval()\n",
        "    test_loss = 0.0\n",
        "    correct = 0\n",
        "    total = 0\n",
        "\n",
        "    with torch.no_grad():\n",
        "        for images, labels in test_dataloader:\n",
        "            images = images.to(device)\n",
        "            labels = labels.to(device)\n",
        "\n",
        "            outputs = model(images)\n",
        "            loss = criterion(outputs, labels)\n",
        "\n",
        "            test_loss += loss.item()\n",
        "            _, predicted = outputs.max(1)\n",
        "            total += labels.size(0)\n",
        "            correct += predicted.eq(labels).sum().item()\n",
        "\n",
        "    test_loss /= len(test_dataloader)\n",
        "    test_accuracy = correct / total\n",
        "    test_loss_values.append(test_loss)\n",
        "    test_accuracy_values.append(test_accuracy)\n",
        "\n",
        "    print(f\"Epoch [{epoch+1}/{num_epochs}], Train Loss: {train_loss:.4f}, Train Accuracy: {train_accuracy:.4f}, Test Loss: {test_loss:.4f}, Test Accuracy: {test_accuracy:.4f}\")"
      ],
      "metadata": {
        "colab": {
          "base_uri": "https://localhost:8080/"
        },
        "id": "iDTcTO7Vp8ge",
        "outputId": "3180c0b2-aea6-4f04-e1ed-75ea3c31bf15"
      },
      "execution_count": 17,
      "outputs": [
        {
          "output_type": "stream",
          "name": "stdout",
          "text": [
            "Epoch [1/10], Train Loss: 0.3262, Train Accuracy: 0.8865, Test Loss: 1.1238, Test Accuracy: 0.6938\n",
            "Epoch [2/10], Train Loss: 0.2730, Train Accuracy: 0.9053, Test Loss: 1.2319, Test Accuracy: 0.6801\n",
            "Epoch [3/10], Train Loss: 0.2279, Train Accuracy: 0.9217, Test Loss: 1.3391, Test Accuracy: 0.6852\n",
            "Epoch [4/10], Train Loss: 0.1856, Train Accuracy: 0.9370, Test Loss: 1.4625, Test Accuracy: 0.6875\n",
            "Epoch [5/10], Train Loss: 0.1610, Train Accuracy: 0.9452, Test Loss: 1.5934, Test Accuracy: 0.6766\n",
            "Epoch [6/10], Train Loss: 0.1350, Train Accuracy: 0.9534, Test Loss: 1.6705, Test Accuracy: 0.6804\n",
            "Epoch [7/10], Train Loss: 0.1226, Train Accuracy: 0.9578, Test Loss: 1.8281, Test Accuracy: 0.6741\n",
            "Epoch [8/10], Train Loss: 0.1045, Train Accuracy: 0.9639, Test Loss: 1.9622, Test Accuracy: 0.6767\n",
            "Epoch [9/10], Train Loss: 0.0881, Train Accuracy: 0.9700, Test Loss: 2.0184, Test Accuracy: 0.6767\n",
            "Epoch [10/10], Train Loss: 0.0883, Train Accuracy: 0.9696, Test Loss: 2.1424, Test Accuracy: 0.6742\n"
          ]
        }
      ]
    },
    {
      "cell_type": "markdown",
      "source": [
        "#Kiểm tra mô hình"
      ],
      "metadata": {
        "id": "q44FBuzMkCAR"
      }
    },
    {
      "cell_type": "code",
      "source": [
        "model.eval()\n",
        "correct = 0\n",
        "total = 0\n",
        "\n",
        "with torch.no_grad():\n",
        "    for images, labels in test_dataloader:\n",
        "        images = images.to(device)\n",
        "        labels = labels.to(device)\n",
        "\n",
        "        outputs = model(images)\n",
        "        _, predicted = outputs.max(1)\n",
        "        total += labels.size(0)\n",
        "        correct += predicted.eq(labels).sum().item()\n",
        "\n",
        "test_accuracy = correct / total\n",
        "print(f\"Test Accuracy: {test_accuracy:.4f}\")"
      ],
      "metadata": {
        "colab": {
          "base_uri": "https://localhost:8080/"
        },
        "id": "lkn3eHVzkEPU",
        "outputId": "ebfa9728-46bd-4c91-9a03-8fbd86cb6138"
      },
      "execution_count": 19,
      "outputs": [
        {
          "output_type": "stream",
          "name": "stdout",
          "text": [
            "Test Accuracy: 0.6742\n"
          ]
        }
      ]
    },
    {
      "cell_type": "markdown",
      "source": [
        "#Trực quan một số độ đo thông số của mô hình"
      ],
      "metadata": {
        "id": "1Qe7L1lVkEY6"
      }
    },
    {
      "cell_type": "code",
      "source": [
        "import matplotlib.pyplot as plt\n",
        "\n",
        "def plot_metrics(train_loss_values, test_loss_values, test_accuracy_values):\n",
        "    plt.figure(figsize=(12, 4))\n",
        "    plt.subplot(1, 2, 1)\n",
        "    plt.plot(train_loss_values, label='Train Loss')\n",
        "    plt.plot(test_loss_values, label='Test Loss')\n",
        "    plt.xlabel('Epoch')\n",
        "    plt.ylabel('Loss')\n",
        "    plt.legend()\n",
        "\n",
        "    plt.subplot(1, 2, 2)\n",
        "    plt.plot(test_accuracy_values, label='Test Accuracy')\n",
        "    plt.xlabel('Epoch')\n",
        "    plt.ylabel('Accuracy')\n",
        "    plt.legend()\n",
        "\n",
        "    plt.show()\n",
        "# Gọi hàm plot_metrics với các biến đã tính toán được\n",
        "plot_metrics(train_loss_values, test_loss_values, test_accuracy_values)"
      ],
      "metadata": {
        "colab": {
          "base_uri": "https://localhost:8080/",
          "height": 329
        },
        "id": "9FbqOgiyqBd8",
        "outputId": "43a59ed8-0968-439b-b934-bb2f4cee733e"
      },
      "execution_count": 18,
      "outputs": [
        {
          "output_type": "display_data",
          "data": {
            "text/plain": [
              "<Figure size 1200x400 with 2 Axes>"
            ],
            "image/png": "[encoded data removed]"
          },
          "metadata": {}
        }
      ]
    },
    {
      "cell_type": "markdown",
      "source": [
        "#Test ảnh ngẫu nhiên"
      ],
      "metadata": {
        "id": "Pvx3-zgLltoB"
      }
    },
    {
      "cell_type": "code",
      "source": [
        "from PIL import Image\n",
        "import torchvision.transforms as transforms\n",
        "\n",
        "# Đọc ảnh\n",
        "image = Image.open(\"city.jpg\")\n",
        "\n",
        "# Tiền xử lý ảnh\n",
        "preprocess = transforms.Compose([\n",
        "    transforms.Resize((32, 32)),\n",
        "    transforms.ToTensor(),\n",
        "    transforms.Normalize((0.5, 0.5, 0.5), (0.5, 0.5, 0.5))\n",
        "])\n",
        "input_tensor = preprocess(image)\n",
        "input_batch = input_tensor.unsqueeze(0)  # Thêm chiều batch\n",
        "\n",
        "# Di chuyển dữ liệu lên GPU (nếu sử dụng GPU)\n",
        "input_batch = input_batch.to(device)"
      ],
      "metadata": {
        "id": "pQC_XYSKlrsI"
      },
      "execution_count": 27,
      "outputs": []
    },
    {
      "cell_type": "code",
      "source": [
        "# Đường dẫn đến file label.txt\n",
        "label_file_path = \"/content/Labels.txt\"\n",
        "\n",
        "# Đọc nội dung của file label.txt và tạo danh sách nhãn\n",
        "with open(label_file_path, \"r\") as file:\n",
        "    classes = file.read().splitlines()\n",
        "\n",
        "model.eval()\n",
        "with torch.no_grad():\n",
        "    output = model(input_batch)\n",
        "\n",
        "# Lấy nhãn dự đoán\n",
        "_, predicted_idx = output.max(1)\n",
        "predicted_label = classes[predicted_idx.item()]\n",
        "print(\"Predicted label:\", predicted_label)"
      ],
      "metadata": {
        "colab": {
          "base_uri": "https://localhost:8080/"
        },
        "id": "R9aGUkv7l3xh",
        "outputId": "4b113ff0-4c44-43e4-bddf-5f1460e2db01"
      },
      "execution_count": 28,
      "outputs": [
        {
          "output_type": "stream",
          "name": "stdout",
          "text": [
            "Predicted label: motorbike\n"
          ]
        }
      ]
    }
  ]
}