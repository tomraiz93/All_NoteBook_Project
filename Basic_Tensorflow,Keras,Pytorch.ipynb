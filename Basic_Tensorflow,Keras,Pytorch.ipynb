{
  "nbformat": 4,
  "nbformat_minor": 0,
  "metadata": {
    "colab": {
      "provenance": [],
      "authorship_tag": "ABX9TyOyPBGf2hj0WdKqBTZ+JKbw",
      "include_colab_link": true
    },
    "kernelspec": {
      "name": "python3",
      "display_name": "Python 3"
    },
    "language_info": {
      "name": "python"
    }
  },
  "cells": [
    {
      "cell_type": "markdown",
      "metadata": {
        "id": "view-in-github",
        "colab_type": "text"
      },
      "source": [
        "<a href=\"https://colab.research.google.com/github/tomraiz93/tam_project/blob/main/Basic_Tensorflow%2CKeras%2CPytorch.ipynb\" target=\"_parent\"><img src=\"https://colab.research.google.com/assets/colab-badge.svg\" alt=\"Open In Colab\"/></a>"
      ]
    },
    {
      "cell_type": "markdown",
      "source": [
        "#Tensorflow\n",
        "\n",
        "+ Là một thư viện mã nguồn mở rất mạnh mẽ được sử dụng để xây dựng và huấn luyện mạng nơ-ron sâu. Nó cung cấp một cách tiếp cận linh hoạt và mạnh mẽ để định nghĩa và huấn luyện các mô hình deep learning."
      ],
      "metadata": {
        "id": "OmVBC9SLdFgF"
      }
    },
    {
      "cell_type": "code",
      "execution_count": 1,
      "metadata": {
        "colab": {
          "base_uri": "https://localhost:8080/"
        },
        "id": "UI0pOvhYdACF",
        "outputId": "62328f92-fe44-4385-a3d1-7b285533d2c7"
      },
      "outputs": [
        {
          "output_type": "stream",
          "name": "stdout",
          "text": [
            "1/1 [==============================] - 0s 106ms/step\n",
            "Dự đoán cho dữ liệu [0, 0]: 0.5537418723106384\n",
            "Dự đoán cho dữ liệu [0, 1]: 0.5536678433418274\n",
            "Dự đoán cho dữ liệu [1, 0]: 0.5535874962806702\n",
            "Dự đoán cho dữ liệu [1, 1]: 0.3112438917160034\n"
          ]
        }
      ],
      "source": [
        "import tensorflow as tf\n",
        "\n",
        "# Tạo dữ liệu huấn luyện giả định\n",
        "X_train = [[0, 0], [0, 1], [1, 0], [1, 1]]\n",
        "y_train = [[0], [1], [1], [0]]\n",
        "\n",
        "# Xây dựng mô hình mạng nơ-ron\n",
        "model = tf.keras.Sequential([\n",
        "    tf.keras.layers.Dense(4, input_shape=(2,), activation='relu'),\n",
        "    tf.keras.layers.Dense(1, activation='sigmoid')\n",
        "])\n",
        "\n",
        "# Biên dịch mô hình\n",
        "model.compile(optimizer='adam', loss='binary_crossentropy', metrics=['accuracy'])\n",
        "\n",
        "# Huấn luyện mô hình\n",
        "model.fit(X_train, y_train, epochs=1000, verbose=0)\n",
        "\n",
        "# Dự đoán dữ liệu mới\n",
        "X_test = [[0, 0], [0, 1], [1, 0], [1, 1]]\n",
        "predictions = model.predict(X_test)\n",
        "\n",
        "for i, prediction in enumerate(predictions):\n",
        "    print(f\"Dự đoán cho dữ liệu {X_test[i]}: {prediction[0]}\")"
      ]
    },
    {
      "cell_type": "code",
      "source": [
        "import tensorflow as tf\n",
        "from tensorflow import keras\n",
        "\n",
        "# Chuẩn bị dữ liệu\n",
        "(x_train, y_train), (x_test, y_test) = keras.datasets.mnist.load_data()\n",
        "x_train = x_train.reshape(-1, 28*28) / 255.0\n",
        "x_test = x_test.reshape(-1, 28*28) / 255.0\n",
        "y_train = keras.utils.to_categorical(y_train)\n",
        "y_test = keras.utils.to_categorical(y_test)\n",
        "\n",
        "# Định nghĩa mô hình\n",
        "model = keras.Sequential([\n",
        "    keras.layers.Dense(64, activation='relu', input_shape=(784,)),\n",
        "    keras.layers.Dense(10, activation='softmax')\n",
        "])\n",
        "\n",
        "# Biên dịch mô hình\n",
        "model.compile(optimizer='adam',\n",
        "              loss='categorical_crossentropy',\n",
        "              metrics=['accuracy'])\n",
        "\n",
        "# Huấn luyện mô hình\n",
        "model.fit(x_train, y_train, epochs=10, batch_size=32)\n",
        "\n",
        "# Dự đoán dữ liệu kiểm tra\n",
        "predictions = model.predict(x_test)\n",
        "predicted_labels = tf.argmax(predictions, axis=1)\n",
        "\n",
        "# In ra dự đoán và nhãn thực tế của một số dữ liệu kiểm tra\n",
        "for i in range(10):\n",
        "    print(\"Dự đoán:\", predicted_labels[i].numpy())\n",
        "    print(\"Nhãn thực tế:\", tf.argmax(y_test[i]).numpy())\n",
        "    print()"
      ],
      "metadata": {
        "colab": {
          "base_uri": "https://localhost:8080/"
        },
        "id": "A7gyyPj8d-d3",
        "outputId": "cd2da6ac-e954-46c5-d2e9-38a941b469ca"
      },
      "execution_count": 2,
      "outputs": [
        {
          "output_type": "stream",
          "name": "stdout",
          "text": [
            "Downloading data from https://storage.googleapis.com/tensorflow/tf-keras-datasets/mnist.npz\n",
            "11490434/11490434 [==============================] - 0s 0us/step\n",
            "Epoch 1/10\n",
            "1875/1875 [==============================] - 5s 2ms/step - loss: 0.3014 - accuracy: 0.9142\n",
            "Epoch 2/10\n",
            "1875/1875 [==============================] - 6s 3ms/step - loss: 0.1450 - accuracy: 0.9579\n",
            "Epoch 3/10\n",
            "1875/1875 [==============================] - 4s 2ms/step - loss: 0.1042 - accuracy: 0.9693\n",
            "Epoch 4/10\n",
            "1875/1875 [==============================] - 4s 2ms/step - loss: 0.0810 - accuracy: 0.9753\n",
            "Epoch 5/10\n",
            "1875/1875 [==============================] - 6s 3ms/step - loss: 0.0655 - accuracy: 0.9803\n",
            "Epoch 6/10\n",
            "1875/1875 [==============================] - 5s 2ms/step - loss: 0.0531 - accuracy: 0.9835\n",
            "Epoch 7/10\n",
            "1875/1875 [==============================] - 5s 3ms/step - loss: 0.0466 - accuracy: 0.9854\n",
            "Epoch 8/10\n",
            "1875/1875 [==============================] - 5s 3ms/step - loss: 0.0390 - accuracy: 0.9887\n",
            "Epoch 9/10\n",
            "1875/1875 [==============================] - 4s 2ms/step - loss: 0.0337 - accuracy: 0.9895\n",
            "Epoch 10/10\n",
            "1875/1875 [==============================] - 6s 3ms/step - loss: 0.0285 - accuracy: 0.9920\n",
            "313/313 [==============================] - 1s 2ms/step\n",
            "Dự đoán: 7\n",
            "Nhãn thực tế: 7\n",
            "\n",
            "Dự đoán: 2\n",
            "Nhãn thực tế: 2\n",
            "\n",
            "Dự đoán: 1\n",
            "Nhãn thực tế: 1\n",
            "\n",
            "Dự đoán: 0\n",
            "Nhãn thực tế: 0\n",
            "\n",
            "Dự đoán: 4\n",
            "Nhãn thực tế: 4\n",
            "\n",
            "Dự đoán: 1\n",
            "Nhãn thực tế: 1\n",
            "\n",
            "Dự đoán: 4\n",
            "Nhãn thực tế: 4\n",
            "\n",
            "Dự đoán: 9\n",
            "Nhãn thực tế: 9\n",
            "\n",
            "Dự đoán: 5\n",
            "Nhãn thực tế: 5\n",
            "\n",
            "Dự đoán: 9\n",
            "Nhãn thực tế: 9\n",
            "\n"
          ]
        }
      ]
    },
    {
      "cell_type": "markdown",
      "source": [
        "#Keras\n",
        "- Keras là một framework mạng nơ-ron sâu mã nguồn mở, được phát triển nhằm tạo ra một giao diện dễ sử dụng và trực quan cho việc xây dựng mô hình học sâu.\n",
        "- Keras cung cấp một API cao cấp, cho phép người dùng dễ dàng định nghĩa, huấn luyện và đánh giá mô hình mạng nơ-ron sâu.\n",
        "- Keras hỗ trợ nhiều backend, bao gồm TensorFlow, Theano và CNTK. Người dùng có thể chọn backend theo sở thích và yêu cầu của mình.\n",
        "- Keras giúp giảm độ phức tạp của việc xây dựng mô hình bằng cách cung cấp các lớp, hàm và phương thức tiện ích sẵn có, như lớp Dense, Conv2D, LSTM, hàm loss categorical_crossentropy, optimizer Adam, phương thức fit, predict, evaluate, v.v."
      ],
      "metadata": {
        "id": "lz1x34nzeuD9"
      }
    },
    {
      "cell_type": "code",
      "source": [
        "import tensorflow as tf\n",
        "from tensorflow import keras\n",
        "\n",
        "# Chuẩn bị dữ liệu\n",
        "(x_train, y_train), (x_test, y_test) = keras.datasets.mnist.load_data()\n",
        "x_train = x_train.reshape(-1, 28*28) / 255.0\n",
        "x_test = x_test.reshape(-1, 28*28) / 255.0\n",
        "y_train = keras.utils.to_categorical(y_train)\n",
        "y_test = keras.utils.to_categorical(y_test)\n",
        "\n",
        "# Định nghĩa mô hình\n",
        "model = keras.Sequential([\n",
        "    keras.layers.Dense(64, activation='relu', input_shape=(784,)),\n",
        "    keras.layers.Dense(10, activation='softmax')\n",
        "])\n",
        "\n",
        "# Biên dịch mô hình\n",
        "model.compile(optimizer='adam',\n",
        "              loss='categorical_crossentropy',\n",
        "              metrics=['accuracy'])\n",
        "\n",
        "# Huấn luyện mô hình\n",
        "model.fit(x_train, y_train, epochs=10, batch_size=32)\n",
        "\n",
        "# Dự đoán dữ liệu kiểm tra\n",
        "predictions = model.predict(x_test)\n",
        "predicted_labels = tf.argmax(predictions, axis=1)\n",
        "\n",
        "# In ra dự đoán và nhãn thực tế của một số dữ liệu kiểm tra\n",
        "for i in range(10):\n",
        "    print(\"Dự đoán:\", predicted_labels[i].numpy())\n",
        "    print(\"Nhãn thực tế:\", tf.argmax(y_test[i]).numpy())\n",
        "    print()"
      ],
      "metadata": {
        "colab": {
          "base_uri": "https://localhost:8080/"
        },
        "id": "36f8P3nqe6b1",
        "outputId": "399c4e6f-ed37-4d77-abe2-afa894b1bd84"
      },
      "execution_count": 3,
      "outputs": [
        {
          "output_type": "stream",
          "name": "stdout",
          "text": [
            "Epoch 1/10\n",
            "1875/1875 [==============================] - 5s 2ms/step - loss: 0.2974 - accuracy: 0.9164\n",
            "Epoch 2/10\n",
            "1875/1875 [==============================] - 5s 3ms/step - loss: 0.1454 - accuracy: 0.9582\n",
            "Epoch 3/10\n",
            "1875/1875 [==============================] - 6s 3ms/step - loss: 0.1047 - accuracy: 0.9689\n",
            "Epoch 4/10\n",
            "1875/1875 [==============================] - 8s 4ms/step - loss: 0.0824 - accuracy: 0.9751\n",
            "Epoch 5/10\n",
            "1875/1875 [==============================] - 6s 3ms/step - loss: 0.0663 - accuracy: 0.9804\n",
            "Epoch 6/10\n",
            "1875/1875 [==============================] - 5s 3ms/step - loss: 0.0553 - accuracy: 0.9833\n",
            "Epoch 7/10\n",
            "1875/1875 [==============================] - 9s 5ms/step - loss: 0.0459 - accuracy: 0.9860\n",
            "Epoch 8/10\n",
            "1875/1875 [==============================] - 4s 2ms/step - loss: 0.0395 - accuracy: 0.9882\n",
            "Epoch 9/10\n",
            "1875/1875 [==============================] - 6s 3ms/step - loss: 0.0329 - accuracy: 0.9901\n",
            "Epoch 10/10\n",
            "1875/1875 [==============================] - 4s 2ms/step - loss: 0.0288 - accuracy: 0.9910\n",
            "313/313 [==============================] - 1s 2ms/step\n",
            "Dự đoán: 7\n",
            "Nhãn thực tế: 7\n",
            "\n",
            "Dự đoán: 2\n",
            "Nhãn thực tế: 2\n",
            "\n",
            "Dự đoán: 1\n",
            "Nhãn thực tế: 1\n",
            "\n",
            "Dự đoán: 0\n",
            "Nhãn thực tế: 0\n",
            "\n",
            "Dự đoán: 4\n",
            "Nhãn thực tế: 4\n",
            "\n",
            "Dự đoán: 1\n",
            "Nhãn thực tế: 1\n",
            "\n",
            "Dự đoán: 4\n",
            "Nhãn thực tế: 4\n",
            "\n",
            "Dự đoán: 9\n",
            "Nhãn thực tế: 9\n",
            "\n",
            "Dự đoán: 5\n",
            "Nhãn thực tế: 5\n",
            "\n",
            "Dự đoán: 9\n",
            "Nhãn thực tế: 9\n",
            "\n"
          ]
        }
      ]
    },
    {
      "cell_type": "markdown",
      "source": [
        "#Pytorch\n",
        "- PyTorch là một framework học sâu mã nguồn mở phát triển bởi Facebook AI Research, tập trung vào tính linh hoạt và tính toán động.\n",
        "- PyTorch có một cấu trúc đồ thị tính toán động (dynamic computational graph), cho phép người dùng xây dựng các mô hình linh hoạt hơn và dễ dàng theo dõi quá trình lan truyền ngược (backpropagation).\n",
        "- PyTorch cung cấp một loạt các lớp và hàm trong gói torch.nn, giúp xây dựng các mạng nơ-ron sâu với các lớp như Conv2d, LSTM, Linear, hàm loss\n",
        "- CrossEntropyLoss, optimizer Adam, SGD, phương thức forward, backward, v.v.\n",
        "- PyTorch cũng hỗ trợ tích hợp dễ dàng với các thư viện tính toán khoa học như NumPy và SciPy."
      ],
      "metadata": {
        "id": "Pvjh7UfzfAtD"
      }
    },
    {
      "cell_type": "code",
      "source": [
        "import torch\n",
        "import torch.nn as nn\n",
        "import torch.optim as optim\n",
        "from torch.utils.data import DataLoader\n",
        "from torchvision import datasets, transforms\n",
        "\n",
        "# Chuẩn bị dữ liệu\n",
        "transform = transforms.Compose([\n",
        "    transforms.ToTensor(),\n",
        "    transforms.Normalize((0.1307,), (0.3081,))\n",
        "])\n",
        "\n",
        "train_dataset = datasets.MNIST(root='./data', train=True, transform=transform, download=True)\n",
        "test_dataset = datasets.MNIST(root='./data', train=False, transform=transform)\n",
        "\n",
        "train_dataloader = DataLoader(train_dataset, batch_size=32, shuffle=True)\n",
        "test_dataloader = DataLoader(test_dataset, batch_size=32, shuffle=False)\n",
        "\n",
        "# Định nghĩa mô hình\n",
        "class SimpleModel(nn.Module):\n",
        "    def __init__(self):\n",
        "        super(SimpleModel, self).__init__()\n",
        "        self.fc1 = nn.Linear(784, 64)\n",
        "        self.fc2 = nn.Linear(64, 10)\n",
        "\n",
        "    def forward(self, x):\n",
        "        x = torch.relu(self.fc1(x))\n",
        "        x = torch.softmax(self.fc2(x), dim=1)\n",
        "        return x\n",
        "\n",
        "# Khởi tạo mô hình và trình tối ưu hóa\n",
        "model = SimpleModel()\n",
        "criterion = nn.CrossEntropyLoss()\n",
        "optimizer = optim.Adam(model.parameters(), lr=0.001)\n",
        "\n",
        "# Huấn luyện mô hình\n",
        "device = torch.device(\"cuda\" if torch.cuda.is_available() else \"cpu\")\n",
        "model.to(device)\n",
        "\n",
        "num_epochs = 10\n",
        "for epoch in range(num_epochs):\n",
        "    model.train()\n",
        "    for images, labels in train_dataloader:\n",
        "        images = images.view(-1, 784).to(device)\n",
        "        labels = labels.to(device)\n",
        "\n",
        "        optimizer.zero_grad()\n",
        "        outputs = model(images)\n",
        "        loss = criterion(outputs, labels)\n",
        "        loss.backward()\n",
        "        optimizer.step()\n",
        "\n",
        "    model.eval()\n",
        "    correct = 0\n",
        "    total = 0\n",
        "    with torch.no_grad():\n",
        "        for images, labels in test_dataloader:\n",
        "            images = images.view(-1, 784).to(device)\n",
        "            labels = labels.to(device)\n",
        "\n",
        "            outputs = model(images)\n",
        "            _, predicted = torch.max(outputs.data, 1)\n",
        "            total += labels.size(0)\n",
        "            correct += (predicted == labels).sum().item()\n",
        "\n",
        "    accuracy = 100 * correct / total\n",
        "    print('Epoch [{}/{}], Accuracy: {:.2f}%'.format(epoch+1, num_epochs, accuracy))"
      ],
      "metadata": {
        "colab": {
          "base_uri": "https://localhost:8080/"
        },
        "id": "S50CkAAQfCfG",
        "outputId": "b59c2e8f-b411-4349-9bd8-86c4f7325cc6"
      },
      "execution_count": 6,
      "outputs": [
        {
          "output_type": "stream",
          "name": "stdout",
          "text": [
            "Downloading http://yann.lecun.com/exdb/mnist/train-images-idx3-ubyte.gz\n",
            "Downloading http://yann.lecun.com/exdb/mnist/train-images-idx3-ubyte.gz to ./data/MNIST/raw/train-images-idx3-ubyte.gz\n"
          ]
        },
        {
          "output_type": "stream",
          "name": "stderr",
          "text": [
            "100%|██████████| 9912422/9912422 [00:00<00:00, 87733756.60it/s]\n"
          ]
        },
        {
          "output_type": "stream",
          "name": "stdout",
          "text": [
            "Extracting ./data/MNIST/raw/train-images-idx3-ubyte.gz to ./data/MNIST/raw\n",
            "\n",
            "Downloading http://yann.lecun.com/exdb/mnist/train-labels-idx1-ubyte.gz\n",
            "Downloading http://yann.lecun.com/exdb/mnist/train-labels-idx1-ubyte.gz to ./data/MNIST/raw/train-labels-idx1-ubyte.gz\n"
          ]
        },
        {
          "output_type": "stream",
          "name": "stderr",
          "text": [
            "100%|██████████| 28881/28881 [00:00<00:00, 35934646.64it/s]"
          ]
        },
        {
          "output_type": "stream",
          "name": "stdout",
          "text": [
            "Extracting ./data/MNIST/raw/train-labels-idx1-ubyte.gz to ./data/MNIST/raw\n",
            "\n",
            "Downloading http://yann.lecun.com/exdb/mnist/t10k-images-idx3-ubyte.gz\n"
          ]
        },
        {
          "output_type": "stream",
          "name": "stderr",
          "text": [
            "\n"
          ]
        },
        {
          "output_type": "stream",
          "name": "stdout",
          "text": [
            "Downloading http://yann.lecun.com/exdb/mnist/t10k-images-idx3-ubyte.gz to ./data/MNIST/raw/t10k-images-idx3-ubyte.gz\n"
          ]
        },
        {
          "output_type": "stream",
          "name": "stderr",
          "text": [
            "100%|██████████| 1648877/1648877 [00:00<00:00, 29524935.63it/s]\n"
          ]
        },
        {
          "output_type": "stream",
          "name": "stdout",
          "text": [
            "Extracting ./data/MNIST/raw/t10k-images-idx3-ubyte.gz to ./data/MNIST/raw\n",
            "\n",
            "Downloading http://yann.lecun.com/exdb/mnist/t10k-labels-idx1-ubyte.gz\n",
            "Downloading http://yann.lecun.com/exdb/mnist/t10k-labels-idx1-ubyte.gz to ./data/MNIST/raw/t10k-labels-idx1-ubyte.gz\n"
          ]
        },
        {
          "output_type": "stream",
          "name": "stderr",
          "text": [
            "100%|██████████| 4542/4542 [00:00<00:00, 1521972.42it/s]"
          ]
        },
        {
          "output_type": "stream",
          "name": "stdout",
          "text": [
            "Extracting ./data/MNIST/raw/t10k-labels-idx1-ubyte.gz to ./data/MNIST/raw\n",
            "\n"
          ]
        },
        {
          "output_type": "stream",
          "name": "stderr",
          "text": [
            "\n"
          ]
        },
        {
          "output_type": "stream",
          "name": "stdout",
          "text": [
            "Epoch [1/10], Accuracy: 93.54%\n",
            "Epoch [2/10], Accuracy: 95.67%\n",
            "Epoch [3/10], Accuracy: 96.00%\n",
            "Epoch [4/10], Accuracy: 96.68%\n",
            "Epoch [5/10], Accuracy: 96.36%\n",
            "Epoch [6/10], Accuracy: 96.68%\n",
            "Epoch [7/10], Accuracy: 96.63%\n",
            "Epoch [8/10], Accuracy: 97.23%\n",
            "Epoch [9/10], Accuracy: 96.85%\n",
            "Epoch [10/10], Accuracy: 96.80%\n"
          ]
        }
      ]
    }
  ]
}