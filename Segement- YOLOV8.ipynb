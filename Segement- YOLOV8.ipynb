{
  "cells": [
    {
      "cell_type": "markdown",
      "metadata": {
        "id": "view-in-github",
        "colab_type": "text"
      },
      "source": [
        "<a href=\"https://colab.research.google.com/github/tomraiz93/aespa/blob/main/Segement-%20YOLOV8.ipynb\" target=\"_parent\"><img src=\"https://colab.research.google.com/assets/colab-badge.svg\" alt=\"Open In Colab\"/></a>"
      ]
    },
    {
      "cell_type": "code",
      "execution_count": null,
      "metadata": {
        "colab": {
          "base_uri": "https://localhost:8080/"
        },
        "id": "AatWz53xq6iS",
        "outputId": "dbed4791-a125-420f-e2b8-21ea5d6ef8eb"
      },
      "outputs": [
        {
          "output_type": "stream",
          "name": "stdout",
          "text": [
            "/bin/bash: line 1: nvidia-smi: command not found\n"
          ]
        }
      ],
      "source": [
        "!nvidia-smi"
      ]
    },
    {
      "cell_type": "code",
      "execution_count": null,
      "metadata": {
        "colab": {
          "base_uri": "https://localhost:8080/"
        },
        "id": "8jeLrjkUrjGo",
        "outputId": "5c6e1219-47b4-4e17-9d78-cc4669a86c19"
      },
      "outputs": [
        {
          "output_type": "stream",
          "name": "stdout",
          "text": [
            "/content\n"
          ]
        }
      ],
      "source": [
        "import os\n",
        "HOME = os.getcwd()\n",
        "print(HOME)"
      ]
    },
    {
      "cell_type": "code",
      "execution_count": null,
      "metadata": {
        "colab": {
          "base_uri": "https://localhost:8080/"
        },
        "id": "18nRIygMrnVa",
        "outputId": "cffe7fbf-afaf-41e7-c5c3-38bc07a50380"
      },
      "outputs": [
        {
          "output_type": "stream",
          "name": "stderr",
          "text": [
            "Ultralytics YOLOv8.0.28 🚀 Python-3.10.12 torch-2.1.0+cu121 CPU\n",
            "Setup complete ✅ (2 CPUs, 12.7 GB RAM, 26.3/107.7 GB disk)\n"
          ]
        }
      ],
      "source": [
        "# Pip install method (recommended)\n",
        "\n",
        "!pip install ultralytics==8.0.28\n",
        "\n",
        "from IPython import display\n",
        "display.clear_output()\n",
        "\n",
        "import ultralytics\n",
        "ultralytics.checks()"
      ]
    },
    {
      "cell_type": "code",
      "execution_count": null,
      "metadata": {
        "id": "coriVxeUrnX4"
      },
      "outputs": [],
      "source": [
        "from ultralytics import YOLO\n",
        "\n",
        "from IPython.display import display, Image"
      ]
    },
    {
      "cell_type": "code",
      "execution_count": null,
      "metadata": {
        "colab": {
          "base_uri": "https://localhost:8080/"
        },
        "id": "NJPEN8gSrnaq",
        "outputId": "b79bc6f4-1b2c-443d-decb-61115ee2363f"
      },
      "outputs": [
        {
          "output_type": "stream",
          "name": "stdout",
          "text": [
            "/content\n",
            "Downloading https://github.com/ultralytics/assets/releases/download/v0.0.0/yolov8s-seg.pt to yolov8s-seg.pt...\n",
            "100% 22.8M/22.8M [00:00<00:00, 141MB/s] \n",
            "2023-12-20 18:43:53.904346: E external/local_xla/xla/stream_executor/cuda/cuda_dnn.cc:9261] Unable to register cuDNN factory: Attempting to register factory for plugin cuDNN when one has already been registered\n",
            "2023-12-20 18:43:53.904403: E external/local_xla/xla/stream_executor/cuda/cuda_fft.cc:607] Unable to register cuFFT factory: Attempting to register factory for plugin cuFFT when one has already been registered\n",
            "2023-12-20 18:43:53.906611: E external/local_xla/xla/stream_executor/cuda/cuda_blas.cc:1515] Unable to register cuBLAS factory: Attempting to register factory for plugin cuBLAS when one has already been registered\n",
            "2023-12-20 18:43:57.788608: W tensorflow/compiler/tf2tensorrt/utils/py_utils.cc:38] TF-TRT Warning: Could not find TensorRT\n",
            "Ultralytics YOLOv8.0.28 🚀 Python-3.10.12 torch-2.1.0+cu121 CPU\n",
            "YOLOv8s-seg summary (fused): 195 layers, 11810560 parameters, 0 gradients, 42.6 GFLOPs\n",
            "\n",
            "Downloading https://media.roboflow.com/notebooks/examples/dog.jpeg to dog.jpeg...\n",
            "100% 104k/104k [00:00<00:00, 56.8MB/s]\n",
            "image 1/1 /content/dog.jpeg: 640x384 1 person, 1 car, 1 dog, 1 backpack, 1 handbag, 1377.0ms\n",
            "Speed: 4.3ms pre-process, 1377.0ms inference, 81.7ms postprocess per image at shape (1, 3, 640, 640)\n",
            "Results saved to \u001b[1mruns/segment/predict\u001b[0m\n"
          ]
        }
      ],
      "source": [
        "%cd {HOME}\n",
        "!yolo task=segment mode=predict model=yolov8s-seg.pt conf=0.25 source='https://media.roboflow.com/notebooks/examples/dog.jpeg' save=True"
      ]
    },
    {
      "cell_type": "code",
      "execution_count": null,
      "metadata": {
        "colab": {
          "base_uri": "https://localhost:8080/"
        },
        "id": "SVbyYbqzt1Uo",
        "outputId": "3f4456f5-3056-4f9a-c5da-8996e8129368"
      },
      "outputs": [
        {
          "output_type": "stream",
          "name": "stderr",
          "text": [
            "Ultralytics YOLOv8.0.28 🚀 Python-3.10.12 torch-2.1.0+cu121 CPU\n",
            "YOLOv8s-seg summary (fused): 195 layers, 11810560 parameters, 0 gradients, 42.6 GFLOPs\n",
            "\n",
            "Found https://media.roboflow.com/notebooks/examples/dog.jpeg locally at dog.jpeg\n",
            "image 1/1 /content/dog.jpeg: 640x384 1 person, 1 car, 1 dog, 1 backpack, 1 handbag, 653.5ms\n",
            "Speed: 2.4ms pre-process, 653.5ms inference, 15.5ms postprocess per image at shape (1, 3, 640, 640)\n"
          ]
        }
      ],
      "source": [
        "model = YOLO(f'{HOME}/yolov8s-seg.pt')\n",
        "results = model.predict(source='https://media.roboflow.com/notebooks/examples/dog.jpeg', conf=0.25)"
      ]
    },
    {
      "cell_type": "code",
      "execution_count": null,
      "metadata": {
        "colab": {
          "base_uri": "https://localhost:8080/"
        },
        "id": "7eqJLZ_Ot1YI",
        "outputId": "6ba0f863-f3a8-4667-f8fa-7528899f572f"
      },
      "outputs": [
        {
          "output_type": "execute_result",
          "data": {
            "text/plain": [
              "tensor([[4.00000e+00, 3.04000e+02, 6.43000e+02, 1.27600e+03],\n",
              "        [6.28000e+02, 7.35000e+02, 6.98000e+02, 7.88000e+02],\n",
              "        [3.50000e+01, 2.50000e+02, 6.49000e+02, 1.27600e+03],\n",
              "        [3.31000e+02, 6.44000e+02, 5.38000e+02, 1.25400e+03],\n",
              "        [1.00000e+00, 6.60000e+02, 4.44000e+02, 1.27800e+03]])"
            ]
          },
          "metadata": {},
          "execution_count": 9
        }
      ],
      "source": [
        "results[0].boxes.xyxy"
      ]
    },
    {
      "cell_type": "code",
      "execution_count": null,
      "metadata": {
        "colab": {
          "base_uri": "https://localhost:8080/"
        },
        "id": "04kkQRwwt1am",
        "outputId": "6b7d644a-8f42-46b3-9424-33bcb4112a04"
      },
      "outputs": [
        {
          "output_type": "execute_result",
          "data": {
            "text/plain": [
              "tensor([ 0.,  2., 16., 26., 24.])"
            ]
          },
          "metadata": {},
          "execution_count": 10
        }
      ],
      "source": [
        "results[0].boxes.cls"
      ]
    },
    {
      "cell_type": "code",
      "execution_count": null,
      "metadata": {
        "colab": {
          "base_uri": "https://localhost:8080/"
        },
        "id": "EJhSBij7uF_q",
        "outputId": "8d0604b8-f6af-47a7-da5b-fcf87034ae05"
      },
      "outputs": [
        {
          "output_type": "execute_result",
          "data": {
            "text/plain": [
              "tensor([[[0., 0., 0.,  ..., 0., 0., 0.],\n",
              "         [0., 0., 0.,  ..., 0., 0., 0.],\n",
              "         [0., 0., 0.,  ..., 0., 0., 0.],\n",
              "         ...,\n",
              "         [0., 0., 0.,  ..., 0., 0., 0.],\n",
              "         [0., 0., 0.,  ..., 0., 0., 0.],\n",
              "         [0., 0., 0.,  ..., 0., 0., 0.]],\n",
              "\n",
              "        [[0., 0., 0.,  ..., 0., 0., 0.],\n",
              "         [0., 0., 0.,  ..., 0., 0., 0.],\n",
              "         [0., 0., 0.,  ..., 0., 0., 0.],\n",
              "         ...,\n",
              "         [0., 0., 0.,  ..., 0., 0., 0.],\n",
              "         [0., 0., 0.,  ..., 0., 0., 0.],\n",
              "         [0., 0., 0.,  ..., 0., 0., 0.]],\n",
              "\n",
              "        [[0., 0., 0.,  ..., 0., 0., 0.],\n",
              "         [0., 0., 0.,  ..., 0., 0., 0.],\n",
              "         [0., 0., 0.,  ..., 0., 0., 0.],\n",
              "         ...,\n",
              "         [0., 0., 0.,  ..., 0., 0., 0.],\n",
              "         [0., 0., 0.,  ..., 0., 0., 0.],\n",
              "         [0., 0., 0.,  ..., 0., 0., 0.]],\n",
              "\n",
              "        [[0., 0., 0.,  ..., 0., 0., 0.],\n",
              "         [0., 0., 0.,  ..., 0., 0., 0.],\n",
              "         [0., 0., 0.,  ..., 0., 0., 0.],\n",
              "         ...,\n",
              "         [0., 0., 0.,  ..., 0., 0., 0.],\n",
              "         [0., 0., 0.,  ..., 0., 0., 0.],\n",
              "         [0., 0., 0.,  ..., 0., 0., 0.]],\n",
              "\n",
              "        [[0., 0., 0.,  ..., 0., 0., 0.],\n",
              "         [0., 0., 0.,  ..., 0., 0., 0.],\n",
              "         [0., 0., 0.,  ..., 0., 0., 0.],\n",
              "         ...,\n",
              "         [0., 0., 0.,  ..., 0., 0., 0.],\n",
              "         [0., 0., 0.,  ..., 0., 0., 0.],\n",
              "         [0., 0., 0.,  ..., 0., 0., 0.]]])"
            ]
          },
          "metadata": {},
          "execution_count": 11
        }
      ],
      "source": [
        "results[0].masks.masks"
      ]
    },
    {
      "cell_type": "code",
      "execution_count": null,
      "metadata": {
        "colab": {
          "base_uri": "https://localhost:8080/"
        },
        "id": "nwItJIXKuRC_",
        "outputId": "76cfc5f5-31d7-4a9d-c08d-c19a9af87d0b"
      },
      "outputs": [
        {
          "output_type": "stream",
          "name": "stdout",
          "text": [
            "Mounted at /content/drive\n"
          ]
        }
      ],
      "source": [
        "from google.colab import drive\n",
        "drive.mount('/content/drive')"
      ]
    },
    {
      "cell_type": "code",
      "execution_count": null,
      "metadata": {
        "id": "nk1S5XJouRFf"
      },
      "outputs": [],
      "source": [
        "ROOT_PATH = \"/content/yolov8s-seg.pt\""
      ]
    },
    {
      "cell_type": "code",
      "execution_count": null,
      "metadata": {
        "colab": {
          "base_uri": "https://localhost:8080/"
        },
        "id": "FvDnCrv8uRIJ",
        "outputId": "34459864-f92c-457e-b3dc-ee1dd5bfb86f"
      },
      "outputs": [
        {
          "output_type": "stream",
          "name": "stdout",
          "text": [
            "\n",
            "UNRAR 6.11 beta 1 freeware      Copyright (c) 1993-2022 Alexander Roshal\n",
            "\n",
            "\n",
            "Extracting from /content/data.rar\n",
            "\n",
            "Extracting  data.yaml                                                    \b\b\b\b100%\b\b\b\b\b  OK \n",
            "All OK\n"
          ]
        }
      ],
      "source": [
        "#!unrar x /content/data.rar"
      ]
    },
    {
      "cell_type": "code",
      "execution_count": null,
      "metadata": {
        "colab": {
          "base_uri": "https://localhost:8080/"
        },
        "id": "ZnIe8Uouwk3d",
        "outputId": "16588a55-0202-4c15-9de1-f8037a411d50"
      },
      "outputs": [
        {
          "output_type": "stream",
          "name": "stdout",
          "text": [
            "2023-12-20 18:47:21.510262: E external/local_xla/xla/stream_executor/cuda/cuda_dnn.cc:9261] Unable to register cuDNN factory: Attempting to register factory for plugin cuDNN when one has already been registered\n",
            "2023-12-20 18:47:21.510327: E external/local_xla/xla/stream_executor/cuda/cuda_fft.cc:607] Unable to register cuFFT factory: Attempting to register factory for plugin cuFFT when one has already been registered\n",
            "2023-12-20 18:47:21.511719: E external/local_xla/xla/stream_executor/cuda/cuda_blas.cc:1515] Unable to register cuBLAS factory: Attempting to register factory for plugin cuBLAS when one has already been registered\n",
            "2023-12-20 18:47:23.435891: W tensorflow/compiler/tf2tensorrt/utils/py_utils.cc:38] TF-TRT Warning: Could not find TensorRT\n",
            "Ultralytics YOLOv8.0.28 🚀 Python-3.10.12 torch-2.1.0+cu121 CPU\n",
            "YOLOv8s-seg summary (fused): 195 layers, 11810560 parameters, 0 gradients, 42.6 GFLOPs\n",
            "\n",
            "Found https://media.roboflow.com/notebooks/examples/dog.jpeg locally at dog.jpeg\n",
            "image 1/1 /content/dog.jpeg: 640x384 1 person, 1 car, 1 dog, 1 backpack, 1 handbag, 954.7ms\n",
            "Speed: 4.2ms pre-process, 954.7ms inference, 12.9ms postprocess per image at shape (1, 3, 640, 640)\n",
            "Results saved to \u001b[1mruns/segment/predict2\u001b[0m\n"
          ]
        }
      ],
      "source": [
        "!yolo predict model=yolov8s-seg.pt source='https://media.roboflow.com/notebooks/examples/dog.jpeg' save=True"
      ]
    },
    {
      "cell_type": "code",
      "source": [
        "from PIL import Image\n",
        "import matplotlib.pyplot as plt\n",
        "\n",
        "# Đường dẫn đến ảnh\n",
        "image_path = '/content/runs/segment/predict2/dog.jpeg'\n",
        "\n",
        "# Đọc ảnh\n",
        "image = Image.open(image_path)\n",
        "\n",
        "# Hiển thị ảnh\n",
        "plt.imshow(image)\n",
        "plt.axis('off')  # Tắt trục đồ thị\n",
        "plt.show()"
      ],
      "metadata": {
        "colab": {
          "base_uri": "https://localhost:8080/",
          "height": 406
        },
        "id": "RWS440hjjfDf",
        "outputId": "791b2880-881e-451f-d189-ce700525c308"
      },
      "execution_count": null,
      "outputs": [
        {
          "output_type": "display_data",
          "data": {
            "text/plain": [
              "<Figure size 640x480 with 1 Axes>"
            ],
            "image/png": "[encoded data removed]"
          },
          "metadata": {}
        }
      ]
    },
    {
      "cell_type": "code",
      "execution_count": null,
      "metadata": {
        "colab": {
          "base_uri": "https://localhost:8080/"
        },
        "id": "vgTUY_YJuRNX",
        "outputId": "4352ffa8-1031-4848-9ef9-72ffaecc1cb6"
      },
      "outputs": [
        {
          "output_type": "stream",
          "name": "stdout",
          "text": [
            "Ultralytics YOLOv8.0.28 🚀 Python-3.10.12 torch-2.1.0+cu121 CPU\n",
            "\u001b[34m\u001b[1myolo/engine/trainer: \u001b[0mtask=segment, mode=train, model=yolov8s-seg.pt, data=data.yaml, epochs=100, patience=50, batch=16, imgsz=640, save=True, cache=False, device=None, workers=8, project=None, name=None, exist_ok=False, pretrained=False, optimizer=SGD, verbose=True, seed=0, deterministic=True, single_cls=False, image_weights=False, rect=False, cos_lr=False, close_mosaic=10, resume=False, overlap_mask=True, mask_ratio=4, dropout=0.0, val=True, save_json=False, save_hybrid=False, conf=None, iou=0.7, max_det=300, half=False, dnn=False, plots=True, source=None, show=False, save_txt=False, save_conf=False, save_crop=False, hide_labels=False, hide_conf=False, vid_stride=1, line_thickness=3, visualize=False, augment=False, agnostic_nms=False, classes=None, retina_masks=False, boxes=True, format=torchscript, keras=False, optimize=False, int8=False, dynamic=False, simplify=False, opset=None, workspace=4, nms=False, lr0=0.01, lrf=0.01, momentum=0.937, weight_decay=0.0005, warmup_epochs=3.0, warmup_momentum=0.8, warmup_bias_lr=0.1, box=7.5, cls=0.5, dfl=1.5, fl_gamma=0.0, label_smoothing=0.0, nbs=64, hsv_h=0.015, hsv_s=0.7, hsv_v=0.4, degrees=0.0, translate=0.1, scale=0.5, shear=0.0, perspective=0.0, flipud=0.0, fliplr=0.5, mosaic=1.0, mixup=0.0, copy_paste=0.0, cfg=None, v5loader=False, save_dir=runs/segment/train\n",
            "Traceback (most recent call last):\n",
            "  File \"/usr/local/bin/yolo\", line 8, in <module>\n",
            "    sys.exit(entrypoint())\n",
            "  File \"/usr/local/lib/python3.10/dist-packages/ultralytics/yolo/cfg/__init__.py\", line 266, in entrypoint\n",
            "    getattr(model, mode)(**vars(cfg))\n",
            "  File \"/usr/local/lib/python3.10/dist-packages/ultralytics/yolo/engine/model.py\", line 210, in train\n",
            "    self.trainer = self.TrainerClass(overrides=overrides)\n",
            "  File \"/usr/local/lib/python3.10/dist-packages/ultralytics/yolo/v8/segment/train.py\", line 25, in __init__\n",
            "    super().__init__(cfg, overrides)\n",
            "  File \"/usr/local/lib/python3.10/dist-packages/ultralytics/yolo/engine/trainer.py\", line 121, in __init__\n",
            "    self.data = check_det_dataset(self.data)\n",
            "  File \"/usr/local/lib/python3.10/dist-packages/ultralytics/yolo/data/utils.py\", line 237, in check_det_dataset\n",
            "    raise FileNotFoundError(msg)\n",
            "FileNotFoundError: \n",
            "Dataset 'data.yaml' not found ⚠️, missing paths ['/content/datasets/valid/images']\n"
          ]
        }
      ],
      "source": [
        "!yolo task=segment mode=train model=yolov8s-seg.pt data=data.yaml"
      ]
    },
    {
      "cell_type": "code",
      "execution_count": null,
      "metadata": {
        "colab": {
          "base_uri": "https://localhost:8080/"
        },
        "id": "mlTvI375uRPl",
        "outputId": "0b582e53-22d8-4378-ca82-e6f7b1469f6d"
      },
      "outputs": [
        {
          "output_type": "stream",
          "name": "stdout",
          "text": [
            "Ultralytics YOLOv8.0.28 🚀 Python-3.10.12 torch-2.1.0+cu121 CPU\n",
            "\u001b[34m\u001b[1myolo/engine/trainer: \u001b[0mtask=segment, mode=train, model=yolov8s-seg.pt, data=data.yaml, epochs=3, patience=50, batch=16, imgsz=640, save=True, cache=False, device=None, workers=8, project=None, name=None, exist_ok=False, pretrained=False, optimizer=SGD, verbose=True, seed=0, deterministic=True, single_cls=False, image_weights=False, rect=False, cos_lr=False, close_mosaic=10, resume=False, overlap_mask=True, mask_ratio=4, dropout=0.0, val=True, save_json=False, save_hybrid=False, conf=None, iou=0.7, max_det=300, half=False, dnn=False, plots=True, source=None, show=False, save_txt=False, save_conf=False, save_crop=False, hide_labels=False, hide_conf=False, vid_stride=1, line_thickness=3, visualize=False, augment=False, agnostic_nms=False, classes=None, retina_masks=False, boxes=True, format=torchscript, keras=False, optimize=False, int8=False, dynamic=False, simplify=False, opset=None, workspace=4, nms=False, lr0=0.01, lrf=0.01, momentum=0.937, weight_decay=0.0005, warmup_epochs=3.0, warmup_momentum=0.8, warmup_bias_lr=0.1, box=7.5, cls=0.5, dfl=1.5, fl_gamma=0.0, label_smoothing=0.0, nbs=64, hsv_h=0.015, hsv_s=0.7, hsv_v=0.4, degrees=0.0, translate=0.1, scale=0.5, shear=0.0, perspective=0.0, flipud=0.0, fliplr=0.5, mosaic=1.0, mixup=0.0, copy_paste=0.0, cfg=None, v5loader=False, save_dir=runs/segment/train2\n",
            "Traceback (most recent call last):\n",
            "  File \"/usr/local/bin/yolo\", line 8, in <module>\n",
            "    sys.exit(entrypoint())\n",
            "  File \"/usr/local/lib/python3.10/dist-packages/ultralytics/yolo/cfg/__init__.py\", line 266, in entrypoint\n",
            "    getattr(model, mode)(**vars(cfg))\n",
            "  File \"/usr/local/lib/python3.10/dist-packages/ultralytics/yolo/engine/model.py\", line 210, in train\n",
            "    self.trainer = self.TrainerClass(overrides=overrides)\n",
            "  File \"/usr/local/lib/python3.10/dist-packages/ultralytics/yolo/v8/segment/train.py\", line 25, in __init__\n",
            "    super().__init__(cfg, overrides)\n",
            "  File \"/usr/local/lib/python3.10/dist-packages/ultralytics/yolo/engine/trainer.py\", line 121, in __init__\n",
            "    self.data = check_det_dataset(self.data)\n",
            "  File \"/usr/local/lib/python3.10/dist-packages/ultralytics/yolo/data/utils.py\", line 237, in check_det_dataset\n",
            "    raise FileNotFoundError(msg)\n",
            "FileNotFoundError: \n",
            "Dataset 'data.yaml' not found ⚠️, missing paths ['/content/datasets/valid/images']\n"
          ]
        }
      ],
      "source": [
        "#Trainning\n",
        "!yolo train model=yolov8s-seg.pt data=data.yaml epochs=3 imgsz=640"
      ]
    },
    {
      "cell_type": "code",
      "source": [
        "!yolo task=segment mode=predict model=yolov8s-seg.pt conf=0.25 source='/content/football.mp4'"
      ],
      "metadata": {
        "colab": {
          "base_uri": "https://localhost:8080/"
        },
        "id": "8f3u0UpfjbyO",
        "outputId": "7b7a4e4c-2325-472f-b5c4-0c12e4bdbb10"
      },
      "execution_count": null,
      "outputs": [
        {
          "output_type": "stream",
          "name": "stdout",
          "text": [
            "2023-12-20 18:48:24.224549: E external/local_xla/xla/stream_executor/cuda/cuda_dnn.cc:9261] Unable to register cuDNN factory: Attempting to register factory for plugin cuDNN when one has already been registered\n",
            "2023-12-20 18:48:24.224621: E external/local_xla/xla/stream_executor/cuda/cuda_fft.cc:607] Unable to register cuFFT factory: Attempting to register factory for plugin cuFFT when one has already been registered\n",
            "2023-12-20 18:48:24.225983: E external/local_xla/xla/stream_executor/cuda/cuda_blas.cc:1515] Unable to register cuBLAS factory: Attempting to register factory for plugin cuBLAS when one has already been registered\n",
            "2023-12-20 18:48:25.652542: W tensorflow/compiler/tf2tensorrt/utils/py_utils.cc:38] TF-TRT Warning: Could not find TensorRT\n",
            "Ultralytics YOLOv8.0.28 🚀 Python-3.10.12 torch-2.1.0+cu121 CPU\n",
            "YOLOv8s-seg summary (fused): 195 layers, 11810560 parameters, 0 gradients, 42.6 GFLOPs\n",
            "\n",
            "video 1/1 (1/649) /content/football.mp4: 640x384 4 persons, 2 sports balls, 977.0ms\n",
            "video 1/1 (2/649) /content/football.mp4: 640x384 4 persons, 1 sports ball, 1 chair, 837.7ms\n",
            "video 1/1 (3/649) /content/football.mp4: 640x384 4 persons, 1 sports ball, 1 chair, 820.0ms\n",
            "video 1/1 (4/649) /content/football.mp4: 640x384 4 persons, 1 sports ball, 624.9ms\n",
            "video 1/1 (5/649) /content/football.mp4: 640x384 5 persons, 1 sports ball, 521.3ms\n",
            "video 1/1 (6/649) /content/football.mp4: 640x384 4 persons, 1 sports ball, 533.1ms\n",
            "video 1/1 (7/649) /content/football.mp4: 640x384 4 persons, 1 sports ball, 1 chair, 532.6ms\n",
            "video 1/1 (8/649) /content/football.mp4: 640x384 5 persons, 2 sports balls, 1 chair, 537.7ms\n",
            "video 1/1 (9/649) /content/football.mp4: 640x384 5 persons, 2 sports balls, 1 chair, 524.4ms\n",
            "video 1/1 (10/649) /content/football.mp4: 640x384 4 persons, 1 sports ball, 527.3ms\n",
            "video 1/1 (11/649) /content/football.mp4: 640x384 4 persons, 2 sports balls, 515.1ms\n",
            "video 1/1 (12/649) /content/football.mp4: 640x384 4 persons, 1 sports ball, 551.8ms\n",
            "video 1/1 (13/649) /content/football.mp4: 640x384 4 persons, 1 sports ball, 530.6ms\n",
            "video 1/1 (14/649) /content/football.mp4: 640x384 4 persons, 1 sports ball, 519.5ms\n",
            "video 1/1 (15/649) /content/football.mp4: 640x384 4 persons, 1 sports ball, 529.2ms\n",
            "video 1/1 (16/649) /content/football.mp4: 640x384 3 persons, 1 sports ball, 515.7ms\n",
            "video 1/1 (17/649) /content/football.mp4: 640x384 3 persons, 1 sports ball, 525.0ms\n",
            "video 1/1 (18/649) /content/football.mp4: 640x384 3 persons, 1 sports ball, 514.5ms\n",
            "video 1/1 (19/649) /content/football.mp4: 640x384 3 persons, 1 sports ball, 528.1ms\n",
            "video 1/1 (20/649) /content/football.mp4: 640x384 3 persons, 1 sports ball, 528.4ms\n",
            "video 1/1 (21/649) /content/football.mp4: 640x384 3 persons, 1 sports ball, 843.1ms\n",
            "video 1/1 (22/649) /content/football.mp4: 640x384 3 persons, 1 sports ball, 821.4ms\n",
            "video 1/1 (23/649) /content/football.mp4: 640x384 3 persons, 2 sports balls, 800.1ms\n",
            "video 1/1 (24/649) /content/football.mp4: 640x384 2 persons, 3 sports balls, 804.2ms\n",
            "video 1/1 (25/649) /content/football.mp4: 640x384 3 persons, 3 sports balls, 826.5ms\n",
            "video 1/1 (26/649) /content/football.mp4: 640x384 3 persons, 2 sports balls, 816.9ms\n",
            "video 1/1 (27/649) /content/football.mp4: 640x384 3 persons, 2 sports balls, 701.2ms\n",
            "video 1/1 (28/649) /content/football.mp4: 640x384 3 persons, 2 sports balls, 521.6ms\n",
            "video 1/1 (29/649) /content/football.mp4: 640x384 3 persons, 3 sports balls, 532.6ms\n",
            "video 1/1 (30/649) /content/football.mp4: 640x384 4 persons, 2 sports balls, 522.4ms\n",
            "video 1/1 (31/649) /content/football.mp4: 640x384 3 persons, 2 sports balls, 545.4ms\n",
            "video 1/1 (32/649) /content/football.mp4: 640x384 3 persons, 1 sports ball, 529.9ms\n",
            "video 1/1 (33/649) /content/football.mp4: 640x384 3 persons, 1 sports ball, 527.8ms\n",
            "video 1/1 (34/649) /content/football.mp4: 640x384 4 persons, 1 sports ball, 527.0ms\n",
            "video 1/1 (35/649) /content/football.mp4: 640x384 3 persons, 1 sports ball, 517.3ms\n",
            "video 1/1 (36/649) /content/football.mp4: 640x384 4 persons, 1 sports ball, 527.7ms\n",
            "video 1/1 (37/649) /content/football.mp4: 640x384 3 persons, 523.7ms\n",
            "video 1/1 (38/649) /content/football.mp4: 640x384 3 persons, 1 sports ball, 531.8ms\n",
            "video 1/1 (39/649) /content/football.mp4: 640x384 3 persons, 1 sports ball, 518.0ms\n",
            "video 1/1 (40/649) /content/football.mp4: 640x384 1 person, 515.2ms\n",
            "video 1/1 (41/649) /content/football.mp4: 640x384 2 persons, 521.2ms\n",
            "video 1/1 (42/649) /content/football.mp4: 640x384 1 person, 560.9ms\n",
            "video 1/1 (43/649) /content/football.mp4: 640x384 3 persons, 524.1ms\n",
            "video 1/1 (44/649) /content/football.mp4: 640x384 2 persons, 599.7ms\n",
            "video 1/1 (45/649) /content/football.mp4: 640x384 2 persons, 813.0ms\n",
            "video 1/1 (46/649) /content/football.mp4: 640x384 4 persons, 776.3ms\n",
            "video 1/1 (47/649) /content/football.mp4: 640x384 2 persons, 796.7ms\n",
            "video 1/1 (48/649) /content/football.mp4: 640x384 3 persons, 788.2ms\n",
            "video 1/1 (49/649) /content/football.mp4: 640x384 2 persons, 811.4ms\n",
            "video 1/1 (50/649) /content/football.mp4: 640x384 4 persons, 797.0ms\n",
            "video 1/1 (51/649) /content/football.mp4: 640x384 4 persons, 795.2ms\n",
            "video 1/1 (52/649) /content/football.mp4: 640x384 3 persons, 513.4ms\n",
            "video 1/1 (53/649) /content/football.mp4: 640x384 2 persons, 524.6ms\n",
            "video 1/1 (54/649) /content/football.mp4: 640x384 3 persons, 526.3ms\n",
            "video 1/1 (55/649) /content/football.mp4: 640x384 2 persons, 514.0ms\n",
            "video 1/1 (56/649) /content/football.mp4: 640x384 3 persons, 526.6ms\n",
            "video 1/1 (57/649) /content/football.mp4: 640x384 3 persons, 518.0ms\n",
            "video 1/1 (58/649) /content/football.mp4: 640x384 2 persons, 532.3ms\n",
            "video 1/1 (59/649) /content/football.mp4: 640x384 3 persons, 520.1ms\n",
            "video 1/1 (60/649) /content/football.mp4: 640x384 2 persons, 536.0ms\n",
            "video 1/1 (61/649) /content/football.mp4: 640x384 2 persons, 513.8ms\n",
            "video 1/1 (62/649) /content/football.mp4: 640x384 2 persons, 537.3ms\n",
            "video 1/1 (63/649) /content/football.mp4: 640x384 2 persons, 537.0ms\n",
            "video 1/1 (64/649) /content/football.mp4: 640x384 1 person, 519.1ms\n",
            "video 1/1 (65/649) /content/football.mp4: 640x384 3 persons, 1 sports ball, 537.5ms\n",
            "video 1/1 (66/649) /content/football.mp4: 640x384 5 persons, 1 sports ball, 509.0ms\n",
            "video 1/1 (67/649) /content/football.mp4: 640x384 3 persons, 1 sports ball, 538.3ms\n",
            "video 1/1 (68/649) /content/football.mp4: 640x384 5 persons, 512.0ms\n",
            "video 1/1 (69/649) /content/football.mp4: 640x384 5 persons, 730.0ms\n",
            "video 1/1 (70/649) /content/football.mp4: 640x384 4 persons, 816.4ms\n",
            "video 1/1 (71/649) /content/football.mp4: 640x384 4 persons, 1 sports ball, 808.6ms\n",
            "video 1/1 (72/649) /content/football.mp4: 640x384 4 persons, 1 sports ball, 817.4ms\n",
            "video 1/1 (73/649) /content/football.mp4: 640x384 4 persons, 1 sports ball, 791.5ms\n",
            "video 1/1 (74/649) /content/football.mp4: 640x384 5 persons, 1 sports ball, 803.0ms\n",
            "video 1/1 (75/649) /content/football.mp4: 640x384 5 persons, 1 sports ball, 825.5ms\n",
            "video 1/1 (76/649) /content/football.mp4: 640x384 6 persons, 1 sports ball, 541.3ms\n",
            "video 1/1 (77/649) /content/football.mp4: 640x384 6 persons, 1 sports ball, 531.9ms\n",
            "video 1/1 (78/649) /content/football.mp4: 640x384 5 persons, 1 sports ball, 535.9ms\n",
            "video 1/1 (79/649) /content/football.mp4: 640x384 5 persons, 1 sports ball, 533.0ms\n",
            "video 1/1 (80/649) /content/football.mp4: 640x384 4 persons, 1 sports ball, 525.8ms\n",
            "video 1/1 (81/649) /content/football.mp4: 640x384 4 persons, 1 sports ball, 540.5ms\n",
            "video 1/1 (82/649) /content/football.mp4: 640x384 4 persons, 1 sports ball, 523.1ms\n",
            "video 1/1 (83/649) /content/football.mp4: 640x384 9 persons, 1 sports ball, 512.2ms\n",
            "video 1/1 (84/649) /content/football.mp4: 640x384 10 persons, 1 sports ball, 539.3ms\n",
            "video 1/1 (85/649) /content/football.mp4: 640x384 10 persons, 1 sports ball, 517.2ms\n",
            "video 1/1 (86/649) /content/football.mp4: 640x384 9 persons, 1 sports ball, 554.3ms\n",
            "video 1/1 (87/649) /content/football.mp4: 640x384 9 persons, 1 sports ball, 537.0ms\n",
            "video 1/1 (88/649) /content/football.mp4: 640x384 10 persons, 1 sports ball, 537.2ms\n",
            "video 1/1 (89/649) /content/football.mp4: 640x384 10 persons, 1 sports ball, 527.3ms\n",
            "video 1/1 (90/649) /content/football.mp4: 640x384 8 persons, 1 sports ball, 534.8ms\n",
            "video 1/1 (91/649) /content/football.mp4: 640x384 9 persons, 1 sports ball, 706.1ms\n",
            "video 1/1 (92/649) /content/football.mp4: 640x384 9 persons, 1 sports ball, 813.8ms\n",
            "video 1/1 (93/649) /content/football.mp4: 640x384 9 persons, 1 sports ball, 824.0ms\n",
            "video 1/1 (94/649) /content/football.mp4: 640x384 11 persons, 1 sports ball, 817.2ms\n",
            "video 1/1 (95/649) /content/football.mp4: 640x384 8 persons, 1 sports ball, 805.9ms\n",
            "video 1/1 (96/649) /content/football.mp4: 640x384 10 persons, 1 sports ball, 818.2ms\n",
            "video 1/1 (97/649) /content/football.mp4: 640x384 9 persons, 1 sports ball, 1 tennis racket, 584.0ms\n",
            "video 1/1 (98/649) /content/football.mp4: 640x384 10 persons, 1 sports ball, 551.3ms\n",
            "video 1/1 (99/649) /content/football.mp4: 640x384 10 persons, 1 sports ball, 528.2ms\n",
            "video 1/1 (100/649) /content/football.mp4: 640x384 12 persons, 1 sports ball, 529.5ms\n",
            "video 1/1 (101/649) /content/football.mp4: 640x384 9 persons, 1 sports ball, 527.4ms\n",
            "video 1/1 (102/649) /content/football.mp4: 640x384 10 persons, 1 sports ball, 539.6ms\n",
            "video 1/1 (103/649) /content/football.mp4: 640x384 11 persons, 1 sports ball, 519.8ms\n",
            "video 1/1 (104/649) /content/football.mp4: 640x384 10 persons, 1 sports ball, 534.8ms\n",
            "video 1/1 (105/649) /content/football.mp4: 640x384 10 persons, 1 sports ball, 538.7ms\n",
            "video 1/1 (106/649) /content/football.mp4: 640x384 9 persons, 1 sports ball, 518.4ms\n",
            "video 1/1 (107/649) /content/football.mp4: 640x384 10 persons, 1 sports ball, 537.9ms\n",
            "video 1/1 (108/649) /content/football.mp4: 640x384 12 persons, 1 sports ball, 523.7ms\n",
            "video 1/1 (109/649) /content/football.mp4: 640x384 11 persons, 518.2ms\n",
            "video 1/1 (110/649) /content/football.mp4: 640x384 11 persons, 524.8ms\n",
            "video 1/1 (111/649) /content/football.mp4: 640x384 11 persons, 602.5ms\n",
            "video 1/1 (112/649) /content/football.mp4: 640x384 10 persons, 2 sports balls, 816.5ms\n",
            "video 1/1 (113/649) /content/football.mp4: 640x384 9 persons, 1 sports ball, 797.7ms\n",
            "video 1/1 (114/649) /content/football.mp4: 640x384 9 persons, 1 sports ball, 823.6ms\n",
            "video 1/1 (115/649) /content/football.mp4: 640x384 9 persons, 1 sports ball, 823.1ms\n",
            "video 1/1 (116/649) /content/football.mp4: 640x384 10 persons, 1 sports ball, 804.6ms\n",
            "video 1/1 (117/649) /content/football.mp4: 640x384 9 persons, 1 sports ball, 678.6ms\n",
            "video 1/1 (118/649) /content/football.mp4: 640x384 11 persons, 1 sports ball, 539.2ms\n",
            "video 1/1 (119/649) /content/football.mp4: 640x384 11 persons, 1 sports ball, 537.0ms\n",
            "video 1/1 (120/649) /content/football.mp4: 640x384 9 persons, 523.2ms\n",
            "video 1/1 (121/649) /content/football.mp4: 640x384 9 persons, 1 tennis racket, 548.6ms\n",
            "video 1/1 (122/649) /content/football.mp4: 640x384 9 persons, 1 sports ball, 618.6ms\n",
            "video 1/1 (123/649) /content/football.mp4: 640x384 7 persons, 1 sports ball, 810.4ms\n",
            "video 1/1 (124/649) /content/football.mp4: 640x384 6 persons, 776.7ms\n",
            "video 1/1 (125/649) /content/football.mp4: 640x384 7 persons, 618.5ms\n",
            "video 1/1 (126/649) /content/football.mp4: 640x384 10 persons, 590.2ms\n",
            "video 1/1 (127/649) /content/football.mp4: 640x384 10 persons, 775.3ms\n",
            "video 1/1 (128/649) /content/football.mp4: 640x384 12 persons, 879.9ms\n",
            "video 1/1 (129/649) /content/football.mp4: 640x384 14 persons, 1057.2ms\n",
            "video 1/1 (130/649) /content/football.mp4: 640x384 13 persons, 1051.2ms\n",
            "video 1/1 (131/649) /content/football.mp4: 640x384 10 persons, 856.9ms\n",
            "video 1/1 (132/649) /content/football.mp4: 640x384 11 persons, 793.9ms\n",
            "video 1/1 (133/649) /content/football.mp4: 640x384 11 persons, 815.7ms\n",
            "video 1/1 (134/649) /content/football.mp4: 640x384 18 persons, 812.1ms\n",
            "video 1/1 (135/649) /content/football.mp4: 640x384 15 persons, 525.4ms\n",
            "video 1/1 (136/649) /content/football.mp4: 640x384 17 persons, 537.9ms\n",
            "video 1/1 (137/649) /content/football.mp4: 640x384 14 persons, 523.7ms\n",
            "video 1/1 (138/649) /content/football.mp4: 640x384 15 persons, 529.2ms\n",
            "video 1/1 (139/649) /content/football.mp4: 640x384 12 persons, 527.9ms\n",
            "video 1/1 (140/649) /content/football.mp4: 640x384 12 persons, 527.4ms\n",
            "video 1/1 (141/649) /content/football.mp4: 640x384 13 persons, 538.5ms\n",
            "video 1/1 (142/649) /content/football.mp4: 640x384 12 persons, 530.7ms\n",
            "video 1/1 (143/649) /content/football.mp4: 640x384 9 persons, 539.8ms\n",
            "video 1/1 (144/649) /content/football.mp4: 640x384 10 persons, 535.3ms\n",
            "video 1/1 (145/649) /content/football.mp4: 640x384 9 persons, 1 sports ball, 553.5ms\n",
            "video 1/1 (146/649) /content/football.mp4: 640x384 13 persons, 1 sports ball, 535.4ms\n",
            "video 1/1 (147/649) /content/football.mp4: 640x384 13 persons, 1 sports ball, 516.9ms\n",
            "video 1/1 (148/649) /content/football.mp4: 640x384 12 persons, 529.2ms\n",
            "video 1/1 (149/649) /content/football.mp4: 640x384 12 persons, 804.1ms\n",
            "video 1/1 (150/649) /content/football.mp4: 640x384 10 persons, 1 sports ball, 794.3ms\n",
            "video 1/1 (151/649) /content/football.mp4: 640x384 13 persons, 805.1ms\n",
            "video 1/1 (152/649) /content/football.mp4: 640x384 13 persons, 794.6ms\n",
            "video 1/1 (153/649) /content/football.mp4: 640x384 13 persons, 787.0ms\n",
            "video 1/1 (154/649) /content/football.mp4: 640x384 13 persons, 729.5ms\n",
            "video 1/1 (155/649) /content/football.mp4: 640x384 10 persons, 531.2ms\n",
            "video 1/1 (156/649) /content/football.mp4: 640x384 13 persons, 537.9ms\n",
            "video 1/1 (157/649) /content/football.mp4: 640x384 11 persons, 543.0ms\n",
            "video 1/1 (158/649) /content/football.mp4: 640x384 12 persons, 525.7ms\n",
            "video 1/1 (159/649) /content/football.mp4: 640x384 12 persons, 537.3ms\n",
            "video 1/1 (160/649) /content/football.mp4: 640x384 12 persons, 1 sports ball, 531.1ms\n",
            "video 1/1 (161/649) /content/football.mp4: 640x384 11 persons, 511.0ms\n",
            "video 1/1 (162/649) /content/football.mp4: 640x384 11 persons, 1 tennis racket, 534.2ms\n",
            "video 1/1 (163/649) /content/football.mp4: 640x384 11 persons, 1 tennis racket, 525.9ms\n",
            "video 1/1 (164/649) /content/football.mp4: 640x384 11 persons, 1 tennis racket, 526.6ms\n",
            "video 1/1 (165/649) /content/football.mp4: 640x384 11 persons, 2 tennis rackets, 516.1ms\n",
            "video 1/1 (166/649) /content/football.mp4: 640x384 10 persons, 1 tennis racket, 532.8ms\n",
            "video 1/1 (167/649) /content/football.mp4: 640x384 11 persons, 1 tennis racket, 512.8ms\n",
            "video 1/1 (168/649) /content/football.mp4: 640x384 10 persons, 516.4ms\n",
            "video 1/1 (169/649) /content/football.mp4: 640x384 10 persons, 1 sports ball, 814.0ms\n",
            "video 1/1 (170/649) /content/football.mp4: 640x384 11 persons, 1 tennis racket, 814.9ms\n",
            "video 1/1 (171/649) /content/football.mp4: 640x384 11 persons, 1 tennis racket, 797.0ms\n",
            "video 1/1 (172/649) /content/football.mp4: 640x384 9 persons, 813.8ms\n",
            "video 1/1 (173/649) /content/football.mp4: 640x384 10 persons, 797.9ms\n",
            "video 1/1 (174/649) /content/football.mp4: 640x384 11 persons, 775.4ms\n",
            "video 1/1 (175/649) /content/football.mp4: 640x384 12 persons, 541.5ms\n",
            "video 1/1 (176/649) /content/football.mp4: 640x384 11 persons, 513.4ms\n",
            "video 1/1 (177/649) /content/football.mp4: 640x384 4 persons, 1 sports ball, 540.9ms\n",
            "video 1/1 (178/649) /content/football.mp4: 640x384 4 persons, 1 sports ball, 530.1ms\n",
            "video 1/1 (179/649) /content/football.mp4: 640x384 4 persons, 1 sports ball, 508.9ms\n",
            "video 1/1 (180/649) /content/football.mp4: 640x384 4 persons, 1 sports ball, 519.5ms\n",
            "video 1/1 (181/649) /content/football.mp4: 640x384 5 persons, 1 sports ball, 514.7ms\n",
            "video 1/1 (182/649) /content/football.mp4: 640x384 5 persons, 2 sports balls, 525.9ms\n",
            "video 1/1 (183/649) /content/football.mp4: 640x384 5 persons, 1 sports ball, 534.1ms\n",
            "video 1/1 (184/649) /content/football.mp4: 640x384 6 persons, 1 sports ball, 521.4ms\n",
            "video 1/1 (185/649) /content/football.mp4: 640x384 6 persons, 1 sports ball, 520.6ms\n",
            "video 1/1 (186/649) /content/football.mp4: 640x384 6 persons, 1 sports ball, 534.1ms\n",
            "video 1/1 (187/649) /content/football.mp4: 640x384 6 persons, 1 sports ball, 523.9ms\n",
            "video 1/1 (188/649) /content/football.mp4: 640x384 6 persons, 1 sports ball, 522.6ms\n",
            "video 1/1 (189/649) /content/football.mp4: 640x384 5 persons, 1 sports ball, 544.5ms\n",
            "video 1/1 (190/649) /content/football.mp4: 640x384 6 persons, 1 sports ball, 588.4ms\n",
            "video 1/1 (191/649) /content/football.mp4: 640x384 5 persons, 1 sports ball, 839.7ms\n",
            "video 1/1 (192/649) /content/football.mp4: 640x384 5 persons, 1 sports ball, 770.6ms\n",
            "video 1/1 (193/649) /content/football.mp4: 640x384 5 persons, 1 sports ball, 808.5ms\n",
            "video 1/1 (194/649) /content/football.mp4: 640x384 5 persons, 1 sports ball, 773.7ms\n",
            "video 1/1 (195/649) /content/football.mp4: 640x384 6 persons, 1 sports ball, 799.8ms\n",
            "video 1/1 (196/649) /content/football.mp4: 640x384 6 persons, 1 sports ball, 1 tennis racket, 809.4ms\n",
            "video 1/1 (197/649) /content/football.mp4: 640x384 6 persons, 638.2ms\n",
            "video 1/1 (198/649) /content/football.mp4: 640x384 5 persons, 505.1ms\n",
            "video 1/1 (199/649) /content/football.mp4: 640x384 5 persons, 518.7ms\n",
            "video 1/1 (200/649) /content/football.mp4: 640x384 5 persons, 1 tennis racket, 523.8ms\n",
            "video 1/1 (201/649) /content/football.mp4: 640x384 5 persons, 1 tennis racket, 520.1ms\n",
            "video 1/1 (202/649) /content/football.mp4: 640x384 5 persons, 530.1ms\n",
            "video 1/1 (203/649) /content/football.mp4: 640x384 4 persons, 529.6ms\n",
            "video 1/1 (204/649) /content/football.mp4: 640x384 6 persons, 1 sports ball, 547.7ms\n",
            "video 1/1 (205/649) /content/football.mp4: 640x384 6 persons, 1 sports ball, 528.3ms\n",
            "video 1/1 (206/649) /content/football.mp4: 640x384 5 persons, 1 sports ball, 549.0ms\n",
            "video 1/1 (207/649) /content/football.mp4: 640x384 5 persons, 1 sports ball, 559.7ms\n",
            "video 1/1 (208/649) /content/football.mp4: 640x384 5 persons, 1 sports ball, 514.9ms\n",
            "video 1/1 (209/649) /content/football.mp4: 640x384 6 persons, 1 sports ball, 537.5ms\n",
            "video 1/1 (210/649) /content/football.mp4: 640x384 6 persons, 1 sports ball, 511.2ms\n",
            "video 1/1 (211/649) /content/football.mp4: 640x384 5 persons, 1 sports ball, 521.7ms\n",
            "video 1/1 (212/649) /content/football.mp4: 640x384 6 persons, 1 sports ball, 533.7ms\n",
            "video 1/1 (213/649) /content/football.mp4: 640x384 5 persons, 1 sports ball, 537.4ms\n",
            "video 1/1 (214/649) /content/football.mp4: 640x384 5 persons, 1 sports ball, 804.8ms\n",
            "video 1/1 (215/649) /content/football.mp4: 640x384 6 persons, 1 sports ball, 1 tennis racket, 807.2ms\n",
            "video 1/1 (216/649) /content/football.mp4: 640x384 6 persons, 1 sports ball, 2 tennis rackets, 793.5ms\n",
            "video 1/1 (217/649) /content/football.mp4: 640x384 6 persons, 1 sports ball, 2 tennis rackets, 811.9ms\n",
            "video 1/1 (218/649) /content/football.mp4: 640x384 4 persons, 1 tennis racket, 825.7ms\n",
            "video 1/1 (219/649) /content/football.mp4: 640x384 5 persons, 808.2ms\n",
            "video 1/1 (220/649) /content/football.mp4: 640x384 5 persons, 607.6ms\n",
            "video 1/1 (221/649) /content/football.mp4: 640x384 5 persons, 532.1ms\n",
            "video 1/1 (222/649) /content/football.mp4: 640x384 5 persons, 1 tennis racket, 538.3ms\n",
            "video 1/1 (223/649) /content/football.mp4: 640x384 6 persons, 1 tennis racket, 535.1ms\n",
            "video 1/1 (224/649) /content/football.mp4: 640x384 6 persons, 1 sports ball, 3 tennis rackets, 527.4ms\n",
            "video 1/1 (225/649) /content/football.mp4: 640x384 7 persons, 1 sports ball, 535.0ms\n",
            "video 1/1 (226/649) /content/football.mp4: 640x384 6 persons, 1 sports ball, 540.5ms\n",
            "video 1/1 (227/649) /content/football.mp4: 640x384 6 persons, 1 sports ball, 541.4ms\n",
            "video 1/1 (228/649) /content/football.mp4: 640x384 6 persons, 1 sports ball, 532.0ms\n",
            "video 1/1 (229/649) /content/football.mp4: 640x384 6 persons, 1 sports ball, 552.8ms\n",
            "video 1/1 (230/649) /content/football.mp4: 640x384 6 persons, 1 sports ball, 519.8ms\n",
            "video 1/1 (231/649) /content/football.mp4: 640x384 6 persons, 1 sports ball, 568.0ms\n",
            "video 1/1 (232/649) /content/football.mp4: 640x384 6 persons, 1 sports ball, 520.2ms\n",
            "video 1/1 (233/649) /content/football.mp4: 640x384 6 persons, 1 sports ball, 530.5ms\n",
            "video 1/1 (234/649) /content/football.mp4: 640x384 7 persons, 1 sports ball, 2 tennis rackets, 531.3ms\n",
            "video 1/1 (235/649) /content/football.mp4: 640x384 7 persons, 1 sports ball, 2 tennis rackets, 535.8ms\n",
            "video 1/1 (236/649) /content/football.mp4: 640x384 6 persons, 1 sports ball, 1 tennis racket, 819.9ms\n",
            "video 1/1 (237/649) /content/football.mp4: 640x384 5 persons, 1 sports ball, 2 tennis rackets, 830.3ms\n",
            "video 1/1 (238/649) /content/football.mp4: 640x384 5 persons, 2 tennis rackets, 816.1ms\n",
            "video 1/1 (239/649) /content/football.mp4: 640x384 8 persons, 1 sports ball, 1 tennis racket, 814.1ms\n",
            "video 1/1 (240/649) /content/football.mp4: 640x384 7 persons, 1 tennis racket, 825.4ms\n",
            "video 1/1 (241/649) /content/football.mp4: 640x384 7 persons, 1 tennis racket, 836.6ms\n",
            "video 1/1 (242/649) /content/football.mp4: 640x384 7 persons, 627.4ms\n",
            "video 1/1 (243/649) /content/football.mp4: 640x384 7 persons, 535.9ms\n",
            "video 1/1 (244/649) /content/football.mp4: 640x384 5 persons, 546.8ms\n",
            "video 1/1 (245/649) /content/football.mp4: 640x384 6 persons, 534.3ms\n",
            "video 1/1 (246/649) /content/football.mp4: 640x384 5 persons, 517.5ms\n",
            "video 1/1 (247/649) /content/football.mp4: 640x384 5 persons, 541.1ms\n",
            "video 1/1 (248/649) /content/football.mp4: 640x384 5 persons, 528.1ms\n",
            "video 1/1 (249/649) /content/football.mp4: 640x384 6 persons, 1 tennis racket, 534.5ms\n",
            "video 1/1 (250/649) /content/football.mp4: 640x384 6 persons, 1 tennis racket, 537.5ms\n",
            "video 1/1 (251/649) /content/football.mp4: 640x384 6 persons, 1 tennis racket, 521.8ms\n",
            "video 1/1 (252/649) /content/football.mp4: 640x384 6 persons, 1 tennis racket, 545.7ms\n",
            "video 1/1 (253/649) /content/football.mp4: 640x384 6 persons, 1 tennis racket, 543.3ms\n",
            "video 1/1 (254/649) /content/football.mp4: 640x384 6 persons, 535.9ms\n",
            "video 1/1 (255/649) /content/football.mp4: 640x384 6 persons, 551.9ms\n",
            "video 1/1 (256/649) /content/football.mp4: 640x384 6 persons, 549.1ms\n",
            "video 1/1 (257/649) /content/football.mp4: 640x384 6 persons, 554.9ms\n",
            "video 1/1 (258/649) /content/football.mp4: 640x384 6 persons, 715.3ms\n",
            "video 1/1 (259/649) /content/football.mp4: 640x384 6 persons, 814.3ms\n",
            "video 1/1 (260/649) /content/football.mp4: 640x384 5 persons, 796.0ms\n",
            "video 1/1 (261/649) /content/football.mp4: 640x384 5 persons, 820.1ms\n",
            "video 1/1 (262/649) /content/football.mp4: 640x384 5 persons, 793.6ms\n",
            "video 1/1 (263/649) /content/football.mp4: 640x384 5 persons, 794.2ms\n",
            "video 1/1 (264/649) /content/football.mp4: 640x384 6 persons, 821.3ms\n",
            "video 1/1 (265/649) /content/football.mp4: 640x384 6 persons, 546.6ms\n",
            "video 1/1 (266/649) /content/football.mp4: 640x384 6 persons, 538.9ms\n",
            "video 1/1 (267/649) /content/football.mp4: 640x384 5 persons, 548.3ms\n",
            "video 1/1 (268/649) /content/football.mp4: 640x384 5 persons, 541.7ms\n",
            "video 1/1 (269/649) /content/football.mp4: 640x384 6 persons, 536.6ms\n",
            "video 1/1 (270/649) /content/football.mp4: 640x384 6 persons, 527.7ms\n",
            "video 1/1 (271/649) /content/football.mp4: 640x384 6 persons, 531.0ms\n",
            "video 1/1 (272/649) /content/football.mp4: 640x384 5 persons, 529.2ms\n",
            "video 1/1 (273/649) /content/football.mp4: 640x384 6 persons, 562.4ms\n",
            "video 1/1 (274/649) /content/football.mp4: 640x384 6 persons, 1 tennis racket, 537.9ms\n",
            "video 1/1 (275/649) /content/football.mp4: 640x384 528.9ms\n",
            "video 1/1 (276/649) /content/football.mp4: 640x384 1 person, 557.5ms\n",
            "video 1/1 (277/649) /content/football.mp4: 640x384 2 persons, 1 chair, 526.6ms\n",
            "video 1/1 (278/649) /content/football.mp4: 640x384 2 persons, 533.1ms\n",
            "video 1/1 (279/649) /content/football.mp4: 640x384 2 persons, 532.8ms\n",
            "video 1/1 (280/649) /content/football.mp4: 640x384 3 persons, 528.0ms\n",
            "video 1/1 (281/649) /content/football.mp4: 640x384 4 persons, 616.3ms\n",
            "video 1/1 (282/649) /content/football.mp4: 640x384 3 persons, 799.8ms\n",
            "video 1/1 (283/649) /content/football.mp4: 640x384 2 persons, 2 sports balls, 787.9ms\n",
            "video 1/1 (284/649) /content/football.mp4: 640x384 4 persons, 3 sports balls, 807.3ms\n",
            "video 1/1 (285/649) /content/football.mp4: 640x384 2 persons, 1 sports ball, 805.2ms\n",
            "video 1/1 (286/649) /content/football.mp4: 640x384 2 persons, 1 sports ball, 856.0ms\n",
            "video 1/1 (287/649) /content/football.mp4: 640x384 2 persons, 2 sports balls, 830.4ms\n",
            "video 1/1 (288/649) /content/football.mp4: 640x384 1 person, 2 sports balls, 872.8ms\n",
            "video 1/1 (289/649) /content/football.mp4: 640x384 1 person, 2 sports balls, 826.3ms\n",
            "video 1/1 (290/649) /content/football.mp4: 640x384 1 person, 2 sports balls, 814.2ms\n",
            "video 1/1 (291/649) /content/football.mp4: 640x384 2 persons, 1 sports ball, 806.4ms\n",
            "video 1/1 (292/649) /content/football.mp4: 640x384 2 persons, 1 frisbee, 1 sports ball, 1 baseball bat, 819.9ms\n",
            "video 1/1 (293/649) /content/football.mp4: 640x384 3 persons, 799.3ms\n",
            "video 1/1 (294/649) /content/football.mp4: 640x384 2 persons, 1 frisbee, 1 sports ball, 1 baseball bat, 820.4ms\n",
            "video 1/1 (295/649) /content/football.mp4: 640x384 2 persons, 1 sports ball, 1 baseball bat, 819.2ms\n",
            "video 1/1 (296/649) /content/football.mp4: 640x384 2 persons, 1 sports ball, 782.2ms\n",
            "video 1/1 (297/649) /content/football.mp4: 640x384 3 persons, 1 sports ball, 626.0ms\n",
            "video 1/1 (298/649) /content/football.mp4: 640x384 2 persons, 1 sports ball, 528.0ms\n",
            "video 1/1 (299/649) /content/football.mp4: 640x384 2 persons, 1 sports ball, 515.3ms\n",
            "video 1/1 (300/649) /content/football.mp4: 640x384 3 persons, 1 sports ball, 531.7ms\n",
            "video 1/1 (301/649) /content/football.mp4: 640x384 2 persons, 1 sports ball, 802.3ms\n",
            "video 1/1 (302/649) /content/football.mp4: 640x384 2 persons, 2 sports balls, 799.5ms\n",
            "video 1/1 (303/649) /content/football.mp4: 640x384 3 persons, 1 sports ball, 810.7ms\n",
            "video 1/1 (304/649) /content/football.mp4: 640x384 3 persons, 1 sports ball, 809.6ms\n",
            "video 1/1 (305/649) /content/football.mp4: 640x384 3 persons, 1 sports ball, 810.8ms\n",
            "video 1/1 (306/649) /content/football.mp4: 640x384 2 persons, 3 sports balls, 796.4ms\n",
            "video 1/1 (307/649) /content/football.mp4: 640x384 3 persons, 3 sports balls, 798.5ms\n",
            "video 1/1 (308/649) /content/football.mp4: 640x384 3 persons, 2 sports balls, 517.5ms\n",
            "video 1/1 (309/649) /content/football.mp4: 640x384 3 persons, 3 sports balls, 525.8ms\n",
            "video 1/1 (310/649) /content/football.mp4: 640x384 3 persons, 1 sports ball, 546.9ms\n",
            "video 1/1 (311/649) /content/football.mp4: 640x384 1 person, 4 sports balls, 520.1ms\n",
            "video 1/1 (312/649) /content/football.mp4: 640x384 1 person, 1 sports ball, 532.2ms\n",
            "video 1/1 (313/649) /content/football.mp4: 640x384 1 person, 2 sports balls, 516.9ms\n",
            "video 1/1 (314/649) /content/football.mp4: 640x384 1 person, 3 sports balls, 533.3ms\n",
            "video 1/1 (315/649) /content/football.mp4: 640x384 2 persons, 1 sports ball, 526.1ms\n",
            "video 1/1 (316/649) /content/football.mp4: 640x384 2 persons, 2 sports balls, 1 tennis racket, 533.8ms\n",
            "video 1/1 (317/649) /content/football.mp4: 640x384 2 persons, 2 sports balls, 532.2ms\n",
            "video 1/1 (318/649) /content/football.mp4: 640x384 2 persons, 2 sports balls, 524.3ms\n",
            "video 1/1 (319/649) /content/football.mp4: 640x384 1 person, 1 sports ball, 559.6ms\n",
            "video 1/1 (320/649) /content/football.mp4: 640x384 1 person, 2 sports balls, 532.6ms\n",
            "video 1/1 (321/649) /content/football.mp4: 640x384 1 person, 1 sports ball, 531.3ms\n",
            "video 1/1 (322/649) /content/football.mp4: 640x384 1 person, 1 sports ball, 526.4ms\n",
            "video 1/1 (323/649) /content/football.mp4: 640x384 3 persons, 1 sports ball, 537.0ms\n",
            "video 1/1 (324/649) /content/football.mp4: 640x384 2 persons, 2 sports balls, 1 tennis racket, 536.1ms\n",
            "video 1/1 (325/649) /content/football.mp4: 640x384 2 persons, 2 sports balls, 1 tennis racket, 796.1ms\n",
            "video 1/1 (326/649) /content/football.mp4: 640x384 4 persons, 2 sports balls, 794.7ms\n",
            "video 1/1 (327/649) /content/football.mp4: 640x384 3 persons, 1 sports ball, 805.2ms\n",
            "video 1/1 (328/649) /content/football.mp4: 640x384 3 persons, 1 sports ball, 795.0ms\n",
            "video 1/1 (329/649) /content/football.mp4: 640x384 3 persons, 816.1ms\n",
            "video 1/1 (330/649) /content/football.mp4: 640x384 3 persons, 809.3ms\n",
            "video 1/1 (331/649) /content/football.mp4: 640x384 3 persons, 800.1ms\n",
            "video 1/1 (332/649) /content/football.mp4: 640x384 3 persons, 1 sports ball, 513.9ms\n",
            "video 1/1 (333/649) /content/football.mp4: 640x384 3 persons, 1 sports ball, 531.3ms\n",
            "video 1/1 (334/649) /content/football.mp4: 640x384 3 persons, 551.9ms\n",
            "video 1/1 (335/649) /content/football.mp4: 640x384 3 persons, 2 sports balls, 530.5ms\n",
            "video 1/1 (336/649) /content/football.mp4: 640x384 4 persons, 2 sports balls, 522.4ms\n",
            "video 1/1 (337/649) /content/football.mp4: 640x384 3 persons, 2 sports balls, 1 tennis racket, 523.8ms\n",
            "video 1/1 (338/649) /content/football.mp4: 640x384 3 persons, 518.0ms\n",
            "video 1/1 (339/649) /content/football.mp4: 640x384 5 persons, 1 sports ball, 531.1ms\n",
            "video 1/1 (340/649) /content/football.mp4: 640x384 6 persons, 2 sports balls, 532.2ms\n",
            "video 1/1 (341/649) /content/football.mp4: 640x384 2 persons, 2 sports balls, 539.5ms\n",
            "video 1/1 (342/649) /content/football.mp4: 640x384 3 persons, 1 sports ball, 530.0ms\n",
            "video 1/1 (343/649) /content/football.mp4: 640x384 2 persons, 1 sports ball, 514.6ms\n",
            "video 1/1 (344/649) /content/football.mp4: 640x384 5 persons, 1 sports ball, 532.2ms\n",
            "video 1/1 (345/649) /content/football.mp4: 640x384 3 persons, 526.4ms\n",
            "video 1/1 (346/649) /content/football.mp4: 640x384 2 persons, 543.6ms\n",
            "video 1/1 (347/649) /content/football.mp4: 640x384 1 person, 520.7ms\n",
            "video 1/1 (348/649) /content/football.mp4: 640x384 2 persons, 593.1ms\n",
            "video 1/1 (349/649) /content/football.mp4: 640x384 1 person, 810.2ms\n",
            "video 1/1 (350/649) /content/football.mp4: 640x384 4 persons, 1 sports ball, 777.9ms\n",
            "video 1/1 (351/649) /content/football.mp4: 640x384 5 persons, 1 sports ball, 785.3ms\n",
            "video 1/1 (352/649) /content/football.mp4: 640x384 5 persons, 1 sports ball, 784.8ms\n",
            "video 1/1 (353/649) /content/football.mp4: 640x384 2 persons, 1 sports ball, 790.7ms\n",
            "video 1/1 (354/649) /content/football.mp4: 640x384 2 persons, 1 sports ball, 1 chair, 779.4ms\n",
            "video 1/1 (355/649) /content/football.mp4: 640x384 3 persons, 1 sports ball, 773.5ms\n",
            "video 1/1 (356/649) /content/football.mp4: 640x384 3 persons, 1 sports ball, 533.4ms\n",
            "video 1/1 (357/649) /content/football.mp4: 640x384 1 person, 1 sports ball, 528.3ms\n",
            "video 1/1 (358/649) /content/football.mp4: 640x384 1 person, 1 sports ball, 532.4ms\n",
            "video 1/1 (359/649) /content/football.mp4: 640x384 3 persons, 1 sports ball, 513.1ms\n",
            "video 1/1 (360/649) /content/football.mp4: 640x384 4 persons, 1 sports ball, 524.9ms\n",
            "video 1/1 (361/649) /content/football.mp4: 640x384 6 persons, 1 sports ball, 521.2ms\n",
            "video 1/1 (362/649) /content/football.mp4: 640x384 6 persons, 539.4ms\n",
            "video 1/1 (363/649) /content/football.mp4: 640x384 9 persons, 1 sports ball, 559.7ms\n",
            "video 1/1 (364/649) /content/football.mp4: 640x384 9 persons, 540.1ms\n",
            "video 1/1 (365/649) /content/football.mp4: 640x384 12 persons, 1 sports ball, 548.9ms\n",
            "video 1/1 (366/649) /content/football.mp4: 640x384 11 persons, 536.1ms\n",
            "video 1/1 (367/649) /content/football.mp4: 640x384 12 persons, 1 sports ball, 530.1ms\n",
            "video 1/1 (368/649) /content/football.mp4: 640x384 13 persons, 519.2ms\n",
            "video 1/1 (369/649) /content/football.mp4: 640x384 10 persons, 528.4ms\n",
            "video 1/1 (370/649) /content/football.mp4: 640x384 10 persons, 544.7ms\n",
            "video 1/1 (371/649) /content/football.mp4: 640x384 11 persons, 1 backpack, 1 sports ball, 758.4ms\n",
            "video 1/1 (372/649) /content/football.mp4: 640x384 17 persons, 805.9ms\n",
            "video 1/1 (373/649) /content/football.mp4: 640x384 13 persons, 1 handbag, 790.8ms\n",
            "video 1/1 (374/649) /content/football.mp4: 640x384 13 persons, 1 handbag, 1 sports ball, 799.1ms\n",
            "video 1/1 (375/649) /content/football.mp4: 640x384 12 persons, 1 backpack, 1 sports ball, 810.3ms\n",
            "video 1/1 (376/649) /content/football.mp4: 640x384 12 persons, 1 backpack, 1 sports ball, 737.5ms\n",
            "video 1/1 (377/649) /content/football.mp4: 640x384 14 persons, 524.5ms\n",
            "video 1/1 (378/649) /content/football.mp4: 640x384 12 persons, 1 sports ball, 533.6ms\n",
            "video 1/1 (379/649) /content/football.mp4: 640x384 14 persons, 529.3ms\n",
            "video 1/1 (380/649) /content/football.mp4: 640x384 14 persons, 519.7ms\n",
            "video 1/1 (381/649) /content/football.mp4: 640x384 17 persons, 526.1ms\n",
            "video 1/1 (382/649) /content/football.mp4: 640x384 5 persons, 1 sports ball, 543.8ms\n",
            "video 1/1 (383/649) /content/football.mp4: 640x384 5 persons, 1 sports ball, 529.0ms\n",
            "video 1/1 (384/649) /content/football.mp4: 640x384 5 persons, 1 sports ball, 530.3ms\n",
            "video 1/1 (385/649) /content/football.mp4: 640x384 5 persons, 1 sports ball, 563.1ms\n",
            "video 1/1 (386/649) /content/football.mp4: 640x384 5 persons, 1 sports ball, 515.3ms\n",
            "video 1/1 (387/649) /content/football.mp4: 640x384 5 persons, 1 sports ball, 534.2ms\n",
            "video 1/1 (388/649) /content/football.mp4: 640x384 5 persons, 1 sports ball, 519.2ms\n",
            "video 1/1 (389/649) /content/football.mp4: 640x384 6 persons, 1 sports ball, 542.8ms\n",
            "video 1/1 (390/649) /content/football.mp4: 640x384 6 persons, 554.2ms\n",
            "video 1/1 (391/649) /content/football.mp4: 640x384 7 persons, 1 sports ball, 668.6ms\n",
            "video 1/1 (392/649) /content/football.mp4: 640x384 6 persons, 2 sports balls, 942.3ms\n",
            "video 1/1 (393/649) /content/football.mp4: 640x384 6 persons, 1 tennis racket, 890.8ms\n",
            "video 1/1 (394/649) /content/football.mp4: 640x384 6 persons, 793.9ms\n",
            "video 1/1 (395/649) /content/football.mp4: 640x384 6 persons, 841.3ms\n",
            "video 1/1 (396/649) /content/football.mp4: 640x384 6 persons, 791.8ms\n",
            "video 1/1 (397/649) /content/football.mp4: 640x384 6 persons, 786.1ms\n",
            "video 1/1 (398/649) /content/football.mp4: 640x384 5 persons, 553.1ms\n",
            "video 1/1 (399/649) /content/football.mp4: 640x384 6 persons, 515.0ms\n",
            "video 1/1 (400/649) /content/football.mp4: 640x384 7 persons, 542.9ms\n",
            "video 1/1 (401/649) /content/football.mp4: 640x384 7 persons, 1 sports ball, 533.4ms\n",
            "video 1/1 (402/649) /content/football.mp4: 640x384 6 persons, 541.6ms\n",
            "video 1/1 (403/649) /content/football.mp4: 640x384 5 persons, 559.2ms\n",
            "video 1/1 (404/649) /content/football.mp4: 640x384 5 persons, 518.5ms\n",
            "video 1/1 (405/649) /content/football.mp4: 640x384 5 persons, 539.7ms\n",
            "video 1/1 (406/649) /content/football.mp4: 640x384 6 persons, 529.1ms\n",
            "video 1/1 (407/649) /content/football.mp4: 640x384 7 persons, 546.3ms\n",
            "video 1/1 (408/649) /content/football.mp4: 640x384 8 persons, 531.1ms\n",
            "video 1/1 (409/649) /content/football.mp4: 640x384 9 persons, 541.6ms\n",
            "video 1/1 (410/649) /content/football.mp4: 640x384 6 persons, 558.6ms\n",
            "video 1/1 (411/649) /content/football.mp4: 640x384 6 persons, 521.2ms\n",
            "video 1/1 (412/649) /content/football.mp4: 640x384 7 persons, 1 chair, 528.9ms\n",
            "video 1/1 (413/649) /content/football.mp4: 640x384 6 persons, 2 chairs, 539.7ms\n",
            "video 1/1 (414/649) /content/football.mp4: 640x384 7 persons, 1 chair, 763.2ms\n",
            "video 1/1 (415/649) /content/football.mp4: 640x384 6 persons, 1 sports ball, 1 chair, 816.8ms\n",
            "video 1/1 (416/649) /content/football.mp4: 640x384 7 persons, 1 sports ball, 831.7ms\n",
            "video 1/1 (417/649) /content/football.mp4: 640x384 7 persons, 846.5ms\n",
            "video 1/1 (418/649) /content/football.mp4: 640x384 7 persons, 810.6ms\n",
            "video 1/1 (419/649) /content/football.mp4: 640x384 5 persons, 805.2ms\n",
            "video 1/1 (420/649) /content/football.mp4: 640x384 7 persons, 666.6ms\n",
            "video 1/1 (421/649) /content/football.mp4: 640x384 6 persons, 529.4ms\n",
            "video 1/1 (422/649) /content/football.mp4: 640x384 6 persons, 538.5ms\n",
            "video 1/1 (423/649) /content/football.mp4: 640x384 7 persons, 557.6ms\n",
            "video 1/1 (424/649) /content/football.mp4: 640x384 5 persons, 534.2ms\n",
            "video 1/1 (425/649) /content/football.mp4: 640x384 5 persons, 556.6ms\n",
            "video 1/1 (426/649) /content/football.mp4: 640x384 5 persons, 531.4ms\n",
            "video 1/1 (427/649) /content/football.mp4: 640x384 5 persons, 1 tennis racket, 535.0ms\n",
            "video 1/1 (428/649) /content/football.mp4: 640x384 5 persons, 538.9ms\n",
            "video 1/1 (429/649) /content/football.mp4: 640x384 6 persons, 522.3ms\n",
            "video 1/1 (430/649) /content/football.mp4: 640x384 6 persons, 527.8ms\n",
            "video 1/1 (431/649) /content/football.mp4: 640x384 10 persons, 526.5ms\n",
            "video 1/1 (432/649) /content/football.mp4: 640x384 6 persons, 546.8ms\n",
            "video 1/1 (433/649) /content/football.mp4: 640x384 7 persons, 531.3ms\n",
            "video 1/1 (434/649) /content/football.mp4: 640x384 8 persons, 2 tennis rackets, 555.5ms\n",
            "video 1/1 (435/649) /content/football.mp4: 640x384 7 persons, 2 tennis rackets, 553.7ms\n",
            "video 1/1 (436/649) /content/football.mp4: 640x384 7 persons, 1 tennis racket, 758.3ms\n",
            "video 1/1 (437/649) /content/football.mp4: 640x384 5 persons, 1 bottle, 826.9ms\n",
            "video 1/1 (438/649) /content/football.mp4: 640x384 6 persons, 820.1ms\n",
            "video 1/1 (439/649) /content/football.mp4: 640x384 5 persons, 1 traffic light, 813.8ms\n",
            "video 1/1 (440/649) /content/football.mp4: 640x384 7 persons, 805.7ms\n",
            "video 1/1 (441/649) /content/football.mp4: 640x384 6 persons, 823.7ms\n",
            "video 1/1 (442/649) /content/football.mp4: 640x384 7 persons, 752.1ms\n",
            "video 1/1 (443/649) /content/football.mp4: 640x384 13 persons, 1 sports ball, 525.0ms\n",
            "video 1/1 (444/649) /content/football.mp4: 640x384 13 persons, 1 sports ball, 538.0ms\n",
            "video 1/1 (445/649) /content/football.mp4: 640x384 13 persons, 521.5ms\n",
            "video 1/1 (446/649) /content/football.mp4: 640x384 13 persons, 1 sports ball, 554.1ms\n",
            "video 1/1 (447/649) /content/football.mp4: 640x384 12 persons, 1 sports ball, 519.6ms\n",
            "video 1/1 (448/649) /content/football.mp4: 640x384 14 persons, 529.3ms\n",
            "video 1/1 (449/649) /content/football.mp4: 640x384 13 persons, 532.9ms\n",
            "video 1/1 (450/649) /content/football.mp4: 640x384 13 persons, 532.9ms\n",
            "video 1/1 (451/649) /content/football.mp4: 640x384 16 persons, 526.4ms\n",
            "video 1/1 (452/649) /content/football.mp4: 640x384 14 persons, 525.7ms\n",
            "video 1/1 (453/649) /content/football.mp4: 640x384 14 persons, 1 sports ball, 521.9ms\n",
            "video 1/1 (454/649) /content/football.mp4: 640x384 16 persons, 1 sports ball, 522.1ms\n",
            "video 1/1 (455/649) /content/football.mp4: 640x384 15 persons, 1 sports ball, 515.1ms\n",
            "video 1/1 (456/649) /content/football.mp4: 640x384 15 persons, 1 sports ball, 697.5ms\n",
            "video 1/1 (457/649) /content/football.mp4: 640x384 14 persons, 1 sports ball, 797.4ms\n",
            "video 1/1 (458/649) /content/football.mp4: 640x384 14 persons, 1 sports ball, 799.4ms\n",
            "video 1/1 (459/649) /content/football.mp4: 640x384 13 persons, 1 sports ball, 795.3ms\n",
            "video 1/1 (460/649) /content/football.mp4: 640x384 12 persons, 1 sports ball, 816.9ms\n",
            "video 1/1 (461/649) /content/football.mp4: 640x384 14 persons, 1 sports ball, 788.6ms\n",
            "video 1/1 (462/649) /content/football.mp4: 640x384 14 persons, 1 sports ball, 529.5ms\n",
            "video 1/1 (463/649) /content/football.mp4: 640x384 12 persons, 1 sports ball, 529.7ms\n",
            "video 1/1 (464/649) /content/football.mp4: 640x384 10 persons, 1 sports ball, 514.0ms\n",
            "video 1/1 (465/649) /content/football.mp4: 640x384 9 persons, 1 sports ball, 540.2ms\n",
            "video 1/1 (466/649) /content/football.mp4: 640x384 9 persons, 1 sports ball, 555.9ms\n",
            "video 1/1 (467/649) /content/football.mp4: 640x384 9 persons, 1 sports ball, 532.0ms\n",
            "video 1/1 (468/649) /content/football.mp4: 640x384 9 persons, 1 sports ball, 549.5ms\n",
            "video 1/1 (469/649) /content/football.mp4: 640x384 9 persons, 555.2ms\n",
            "video 1/1 (470/649) /content/football.mp4: 640x384 9 persons, 1 sports ball, 504.8ms\n",
            "video 1/1 (471/649) /content/football.mp4: 640x384 8 persons, 1 sports ball, 542.7ms\n",
            "video 1/1 (472/649) /content/football.mp4: 640x384 10 persons, 2 sports balls, 549.5ms\n",
            "video 1/1 (473/649) /content/football.mp4: 640x384 9 persons, 4 sports balls, 513.7ms\n",
            "video 1/1 (474/649) /content/football.mp4: 640x384 9 persons, 4 sports balls, 536.8ms\n",
            "video 1/1 (475/649) /content/football.mp4: 640x384 9 persons, 2 sports balls, 537.0ms\n",
            "video 1/1 (476/649) /content/football.mp4: 640x384 9 persons, 1 sports ball, 735.2ms\n",
            "video 1/1 (477/649) /content/football.mp4: 640x384 10 persons, 1 sports ball, 787.6ms\n",
            "video 1/1 (478/649) /content/football.mp4: 640x384 10 persons, 2 sports balls, 790.5ms\n",
            "video 1/1 (479/649) /content/football.mp4: 640x384 10 persons, 1 sports ball, 780.0ms\n",
            "video 1/1 (480/649) /content/football.mp4: 640x384 10 persons, 1 sports ball, 843.4ms\n",
            "video 1/1 (481/649) /content/football.mp4: 640x384 12 persons, 1 sports ball, 815.3ms\n",
            "video 1/1 (482/649) /content/football.mp4: 640x384 10 persons, 1 sports ball, 519.6ms\n",
            "video 1/1 (483/649) /content/football.mp4: 640x384 11 persons, 1 sports ball, 524.9ms\n",
            "video 1/1 (484/649) /content/football.mp4: 640x384 10 persons, 1 sports ball, 510.7ms\n",
            "video 1/1 (485/649) /content/football.mp4: 640x384 10 persons, 1 sports ball, 521.0ms\n",
            "video 1/1 (486/649) /content/football.mp4: 640x384 9 persons, 1 sports ball, 526.4ms\n",
            "video 1/1 (487/649) /content/football.mp4: 640x384 10 persons, 1 sports ball, 545.7ms\n",
            "video 1/1 (488/649) /content/football.mp4: 640x384 11 persons, 1 sports ball, 529.7ms\n",
            "video 1/1 (489/649) /content/football.mp4: 640x384 10 persons, 1 sports ball, 526.6ms\n",
            "video 1/1 (490/649) /content/football.mp4: 640x384 10 persons, 1 sports ball, 540.6ms\n",
            "video 1/1 (491/649) /content/football.mp4: 640x384 11 persons, 1 sports ball, 533.7ms\n",
            "video 1/1 (492/649) /content/football.mp4: 640x384 11 persons, 1 sports ball, 538.5ms\n",
            "video 1/1 (493/649) /content/football.mp4: 640x384 11 persons, 1 sports ball, 550.9ms\n",
            "video 1/1 (494/649) /content/football.mp4: 640x384 12 persons, 1 sports ball, 522.0ms\n",
            "video 1/1 (495/649) /content/football.mp4: 640x384 9 persons, 542.9ms\n",
            "video 1/1 (496/649) /content/football.mp4: 640x384 10 persons, 680.6ms\n",
            "video 1/1 (497/649) /content/football.mp4: 640x384 11 persons, 815.5ms\n",
            "video 1/1 (498/649) /content/football.mp4: 640x384 11 persons, 841.3ms\n",
            "video 1/1 (499/649) /content/football.mp4: 640x384 9 persons, 1 sports ball, 822.3ms\n",
            "video 1/1 (500/649) /content/football.mp4: 640x384 11 persons, 1 sports ball, 816.4ms\n",
            "video 1/1 (501/649) /content/football.mp4: 640x384 10 persons, 1 sports ball, 780.3ms\n",
            "video 1/1 (502/649) /content/football.mp4: 640x384 11 persons, 1 sports ball, 608.0ms\n",
            "video 1/1 (503/649) /content/football.mp4: 640x384 8 persons, 2 sports balls, 509.4ms\n",
            "video 1/1 (504/649) /content/football.mp4: 640x384 8 persons, 2 sports balls, 539.5ms\n",
            "video 1/1 (505/649) /content/football.mp4: 640x384 9 persons, 1 sports ball, 536.3ms\n",
            "video 1/1 (506/649) /content/football.mp4: 640x384 10 persons, 1 sports ball, 520.3ms\n",
            "video 1/1 (507/649) /content/football.mp4: 640x384 9 persons, 1 sports ball, 539.7ms\n",
            "video 1/1 (508/649) /content/football.mp4: 640x384 12 persons, 1 sports ball, 537.1ms\n",
            "video 1/1 (509/649) /content/football.mp4: 640x384 9 persons, 1 sports ball, 518.0ms\n",
            "video 1/1 (510/649) /content/football.mp4: 640x384 9 persons, 1 sports ball, 549.4ms\n",
            "video 1/1 (511/649) /content/football.mp4: 640x384 9 persons, 1 sports ball, 530.3ms\n",
            "video 1/1 (512/649) /content/football.mp4: 640x384 6 persons, 2 sports balls, 541.3ms\n",
            "video 1/1 (513/649) /content/football.mp4: 640x384 3 persons, 2 sports balls, 552.6ms\n",
            "video 1/1 (514/649) /content/football.mp4: 640x384 5 persons, 1 sports ball, 518.9ms\n",
            "video 1/1 (515/649) /content/football.mp4: 640x384 7 persons, 1 sports ball, 525.2ms\n",
            "video 1/1 (516/649) /content/football.mp4: 640x384 7 persons, 1 sports ball, 540.4ms\n",
            "video 1/1 (517/649) /content/football.mp4: 640x384 7 persons, 1 sports ball, 755.5ms\n",
            "video 1/1 (518/649) /content/football.mp4: 640x384 6 persons, 2 sports balls, 811.7ms\n",
            "video 1/1 (519/649) /content/football.mp4: 640x384 9 persons, 805.5ms\n",
            "video 1/1 (520/649) /content/football.mp4: 640x384 7 persons, 2 sports balls, 817.1ms\n",
            "video 1/1 (521/649) /content/football.mp4: 640x384 6 persons, 815.0ms\n",
            "video 1/1 (522/649) /content/football.mp4: 640x384 5 persons, 1 sports ball, 784.7ms\n",
            "video 1/1 (523/649) /content/football.mp4: 640x384 5 persons, 1 sports ball, 728.2ms\n",
            "video 1/1 (524/649) /content/football.mp4: 640x384 8 persons, 535.8ms\n",
            "video 1/1 (525/649) /content/football.mp4: 640x384 4 persons, 1 sports ball, 556.1ms\n",
            "video 1/1 (526/649) /content/football.mp4: 640x384 5 persons, 568.3ms\n",
            "video 1/1 (527/649) /content/football.mp4: 640x384 4 persons, 1 sports ball, 3 baseball gloves, 536.8ms\n",
            "video 1/1 (528/649) /content/football.mp4: 640x384 3 persons, 1 sports ball, 568.1ms\n",
            "video 1/1 (529/649) /content/football.mp4: 640x384 3 persons, 1 sports ball, 549.8ms\n",
            "video 1/1 (530/649) /content/football.mp4: 640x384 6 persons, 1 sports ball, 536.7ms\n",
            "video 1/1 (531/649) /content/football.mp4: 640x384 4 persons, 1 sports ball, 546.1ms\n",
            "video 1/1 (532/649) /content/football.mp4: 640x384 4 persons, 516.6ms\n",
            "video 1/1 (533/649) /content/football.mp4: 640x384 6 persons, 530.9ms\n",
            "video 1/1 (534/649) /content/football.mp4: 640x384 5 persons, 519.5ms\n",
            "video 1/1 (535/649) /content/football.mp4: 640x384 5 persons, 531.9ms\n",
            "video 1/1 (536/649) /content/football.mp4: 640x384 3 persons, 1 sports ball, 535.2ms\n",
            "video 1/1 (537/649) /content/football.mp4: 640x384 3 persons, 530.5ms\n",
            "video 1/1 (538/649) /content/football.mp4: 640x384 4 persons, 560.9ms\n",
            "video 1/1 (539/649) /content/football.mp4: 640x384 4 persons, 1 sports ball, 610.6ms\n",
            "video 1/1 (540/649) /content/football.mp4: 640x384 4 persons, 1 sports ball, 809.8ms\n",
            "video 1/1 (541/649) /content/football.mp4: 640x384 4 persons, 1 sports ball, 813.4ms\n",
            "video 1/1 (542/649) /content/football.mp4: 640x384 5 persons, 815.6ms\n",
            "video 1/1 (543/649) /content/football.mp4: 640x384 4 persons, 811.2ms\n",
            "video 1/1 (544/649) /content/football.mp4: 640x384 5 persons, 2 sports balls, 811.3ms\n",
            "video 1/1 (545/649) /content/football.mp4: 640x384 3 persons, 822.4ms\n",
            "video 1/1 (546/649) /content/football.mp4: 640x384 4 persons, 686.7ms\n",
            "video 1/1 (547/649) /content/football.mp4: 640x384 6 persons, 563.8ms\n",
            "video 1/1 (548/649) /content/football.mp4: 640x384 5 persons, 1 sports ball, 537.7ms\n",
            "video 1/1 (549/649) /content/football.mp4: 640x384 5 persons, 528.7ms\n",
            "video 1/1 (550/649) /content/football.mp4: 640x384 7 persons, 535.1ms\n",
            "video 1/1 (551/649) /content/football.mp4: 640x384 6 persons, 522.8ms\n",
            "video 1/1 (552/649) /content/football.mp4: 640x384 3 persons, 1 sports ball, 524.3ms\n",
            "video 1/1 (553/649) /content/football.mp4: 640x384 3 persons, 1 sports ball, 541.1ms\n",
            "video 1/1 (554/649) /content/football.mp4: 640x384 5 persons, 2 sports balls, 531.5ms\n",
            "video 1/1 (555/649) /content/football.mp4: 640x384 3 persons, 1 sports ball, 537.3ms\n",
            "video 1/1 (556/649) /content/football.mp4: 640x384 3 persons, 1 sports ball, 528.8ms\n",
            "video 1/1 (557/649) /content/football.mp4: 640x384 4 persons, 1 sports ball, 541.0ms\n",
            "video 1/1 (558/649) /content/football.mp4: 640x384 4 persons, 535.6ms\n",
            "video 1/1 (559/649) /content/football.mp4: 640x384 4 persons, 525.5ms\n",
            "video 1/1 (560/649) /content/football.mp4: 640x384 4 persons, 1 sports ball, 571.6ms\n",
            "video 1/1 (561/649) /content/football.mp4: 640x384 4 persons, 1 sports ball, 524.8ms\n",
            "video 1/1 (562/649) /content/football.mp4: 640x384 5 persons, 1 sports ball, 586.0ms\n",
            "video 1/1 (563/649) /content/football.mp4: 640x384 4 persons, 1 sports ball, 826.5ms\n",
            "video 1/1 (564/649) /content/football.mp4: 640x384 2 persons, 1 sports ball, 817.5ms\n",
            "video 1/1 (565/649) /content/football.mp4: 640x384 2 persons, 1 sports ball, 811.8ms\n",
            "video 1/1 (566/649) /content/football.mp4: 640x384 2 persons, 1 sports ball, 801.0ms\n",
            "video 1/1 (567/649) /content/football.mp4: 640x384 1 person, 1 sports ball, 835.0ms\n",
            "video 1/1 (568/649) /content/football.mp4: 640x384 2 persons, 1 sports ball, 795.3ms\n",
            "video 1/1 (569/649) /content/football.mp4: 640x384 719.5ms\n",
            "video 1/1 (570/649) /content/football.mp4: 640x384 1 sports ball, 518.9ms\n",
            "video 1/1 (571/649) /content/football.mp4: 640x384 1 sports ball, 537.4ms\n",
            "video 1/1 (572/649) /content/football.mp4: 640x384 1 person, 1 sports ball, 527.8ms\n",
            "video 1/1 (573/649) /content/football.mp4: 640x384 1 person, 1 sports ball, 534.4ms\n",
            "video 1/1 (574/649) /content/football.mp4: 640x384 1 person, 533.2ms\n",
            "video 1/1 (575/649) /content/football.mp4: 640x384 11 persons, 1 sports ball, 512.5ms\n",
            "video 1/1 (576/649) /content/football.mp4: 640x384 12 persons, 2 sports balls, 553.8ms\n",
            "video 1/1 (577/649) /content/football.mp4: 640x384 11 persons, 1 sports ball, 527.0ms\n",
            "video 1/1 (578/649) /content/football.mp4: 640x384 11 persons, 515.1ms\n",
            "video 1/1 (579/649) /content/football.mp4: 640x384 11 persons, 533.7ms\n",
            "video 1/1 (580/649) /content/football.mp4: 640x384 12 persons, 518.6ms\n",
            "video 1/1 (581/649) /content/football.mp4: 640x384 11 persons, 517.7ms\n",
            "video 1/1 (582/649) /content/football.mp4: 640x384 10 persons, 1 sports ball, 532.4ms\n",
            "video 1/1 (583/649) /content/football.mp4: 640x384 12 persons, 1 sports ball, 539.5ms\n",
            "video 1/1 (584/649) /content/football.mp4: 640x384 11 persons, 1 sports ball, 510.1ms\n",
            "video 1/1 (585/649) /content/football.mp4: 640x384 11 persons, 1 sports ball, 843.1ms\n",
            "video 1/1 (586/649) /content/football.mp4: 640x384 13 persons, 1 sports ball, 792.4ms\n",
            "video 1/1 (587/649) /content/football.mp4: 640x384 12 persons, 1 sports ball, 816.3ms\n",
            "video 1/1 (588/649) /content/football.mp4: 640x384 13 persons, 1 sports ball, 816.0ms\n",
            "video 1/1 (589/649) /content/football.mp4: 640x384 14 persons, 1 dog, 1 sports ball, 777.3ms\n",
            "video 1/1 (590/649) /content/football.mp4: 640x384 14 persons, 674.5ms\n",
            "video 1/1 (591/649) /content/football.mp4: 640x384 13 persons, 519.7ms\n",
            "video 1/1 (592/649) /content/football.mp4: 640x384 12 persons, 1 sports ball, 540.2ms\n",
            "video 1/1 (593/649) /content/football.mp4: 640x384 13 persons, 2 sports balls, 521.7ms\n",
            "video 1/1 (594/649) /content/football.mp4: 640x384 10 persons, 2 sports balls, 531.0ms\n",
            "video 1/1 (595/649) /content/football.mp4: 640x384 12 persons, 1 sports ball, 535.7ms\n",
            "video 1/1 (596/649) /content/football.mp4: 640x384 12 persons, 1 sports ball, 517.5ms\n",
            "video 1/1 (597/649) /content/football.mp4: 640x384 12 persons, 1 sports ball, 542.2ms\n",
            "video 1/1 (598/649) /content/football.mp4: 640x384 11 persons, 2 sports balls, 517.8ms\n",
            "video 1/1 (599/649) /content/football.mp4: 640x384 13 persons, 538.8ms\n",
            "video 1/1 (600/649) /content/football.mp4: 640x384 13 persons, 507.3ms\n",
            "video 1/1 (601/649) /content/football.mp4: 640x384 14 persons, 1 tennis racket, 534.2ms\n",
            "video 1/1 (602/649) /content/football.mp4: 640x384 13 persons, 527.5ms\n",
            "video 1/1 (603/649) /content/football.mp4: 640x384 14 persons, 1 sports ball, 514.6ms\n",
            "video 1/1 (604/649) /content/football.mp4: 640x384 14 persons, 1 sports ball, 650.7ms\n",
            "video 1/1 (605/649) /content/football.mp4: 640x384 13 persons, 1 sports ball, 817.0ms\n",
            "video 1/1 (606/649) /content/football.mp4: 640x384 14 persons, 816.6ms\n",
            "video 1/1 (607/649) /content/football.mp4: 640x384 14 persons, 811.1ms\n",
            "video 1/1 (608/649) /content/football.mp4: 640x384 15 persons, 1 sports ball, 820.7ms\n",
            "video 1/1 (609/649) /content/football.mp4: 640x384 14 persons, 1 sports ball, 799.2ms\n",
            "video 1/1 (610/649) /content/football.mp4: 640x384 17 persons, 1 sports ball, 523.5ms\n",
            "video 1/1 (611/649) /content/football.mp4: 640x384 15 persons, 1 sports ball, 533.5ms\n",
            "video 1/1 (612/649) /content/football.mp4: 640x384 12 persons, 2 sports balls, 531.7ms\n",
            "video 1/1 (613/649) /content/football.mp4: 640x384 13 persons, 2 sports balls, 543.2ms\n",
            "video 1/1 (614/649) /content/football.mp4: 640x384 13 persons, 2 sports balls, 524.5ms\n",
            "video 1/1 (615/649) /content/football.mp4: 640x384 13 persons, 2 sports balls, 537.5ms\n",
            "video 1/1 (616/649) /content/football.mp4: 640x384 12 persons, 2 sports balls, 511.8ms\n",
            "video 1/1 (617/649) /content/football.mp4: 640x384 10 persons, 2 sports balls, 513.7ms\n",
            "video 1/1 (618/649) /content/football.mp4: 640x384 9 persons, 2 sports balls, 548.1ms\n",
            "video 1/1 (619/649) /content/football.mp4: 640x384 8 persons, 1 sports ball, 520.7ms\n",
            "video 1/1 (620/649) /content/football.mp4: 640x384 8 persons, 1 sports ball, 533.9ms\n",
            "video 1/1 (621/649) /content/football.mp4: 640x384 6 persons, 1 sports ball, 548.6ms\n",
            "video 1/1 (622/649) /content/football.mp4: 640x384 7 persons, 1 sports ball, 510.3ms\n",
            "video 1/1 (623/649) /content/football.mp4: 640x384 8 persons, 1 sports ball, 555.6ms\n",
            "video 1/1 (624/649) /content/football.mp4: 640x384 7 persons, 2 sports balls, 824.9ms\n",
            "video 1/1 (625/649) /content/football.mp4: 640x384 4 persons, 1 sports ball, 814.8ms\n",
            "video 1/1 (626/649) /content/football.mp4: 640x384 2 persons, 1 sports ball, 815.4ms\n",
            "video 1/1 (627/649) /content/football.mp4: 640x384 2 persons, 1 sports ball, 800.3ms\n",
            "video 1/1 (628/649) /content/football.mp4: 640x384 3 persons, 798.7ms\n",
            "video 1/1 (629/649) /content/football.mp4: 640x384 2 persons, 790.4ms\n",
            "video 1/1 (630/649) /content/football.mp4: 640x384 2 persons, 817.7ms\n",
            "video 1/1 (631/649) /content/football.mp4: 640x384 2 persons, 524.5ms\n",
            "video 1/1 (632/649) /content/football.mp4: 640x384 2 persons, 524.5ms\n",
            "video 1/1 (633/649) /content/football.mp4: 640x384 2 persons, 535.0ms\n",
            "video 1/1 (634/649) /content/football.mp4: 640x384 2 persons, 521.6ms\n",
            "video 1/1 (635/649) /content/football.mp4: 640x384 2 persons, 1 dog, 526.5ms\n",
            "video 1/1 (636/649) /content/football.mp4: 640x384 2 persons, 515.2ms\n",
            "video 1/1 (637/649) /content/football.mp4: 640x384 1 person, 1 tennis racket, 529.4ms\n",
            "video 1/1 (638/649) /content/football.mp4: 640x384 1 person, 1 chair, 522.5ms\n",
            "video 1/1 (639/649) /content/football.mp4: 640x384 1 person, 1 chair, 525.3ms\n",
            "video 1/1 (640/649) /content/football.mp4: 640x384 1 person, 533.1ms\n",
            "video 1/1 (641/649) /content/football.mp4: 640x384 1 person, 526.9ms\n",
            "video 1/1 (642/649) /content/football.mp4: 640x384 1 person, 1 chair, 528.4ms\n",
            "video 1/1 (643/649) /content/football.mp4: 640x384 2 persons, 516.6ms\n",
            "video 1/1 (644/649) /content/football.mp4: 640x384 2 persons, 534.2ms\n",
            "video 1/1 (645/649) /content/football.mp4: 640x384 2 persons, 514.9ms\n",
            "video 1/1 (646/649) /content/football.mp4: 640x384 2 persons, 523.5ms\n",
            "video 1/1 (647/649) /content/football.mp4: 640x384 1 person, 516.5ms\n",
            "video 1/1 (648/649) /content/football.mp4: 640x384 1 person, 620.5ms\n",
            "video 1/1 (649/649) /content/football.mp4: 640x384 1 person, 806.3ms\n",
            "Speed: 0.9ms pre-process, 619.5ms inference, 21.5ms postprocess per image at shape (1, 3, 640, 640)\n",
            "Results saved to \u001b[1mruns/segment/predict3\u001b[0m\n"
          ]
        }
      ]
    },
    {
      "cell_type": "code",
      "source": [
        "from IPython.display import HTML\n",
        "from base64 import b64encode\n",
        "\n",
        "\n",
        "video_path = '/content/runs/segment/predict3/football.mp4'\n",
        "\n",
        "mp4 = open(video_path, \"rb\").read()\n",
        "data_url = \"data:video/mp4;base64,\" + b64encode(mp4).decode()\n",
        "HTML(f\"\"\"\n",
        "<video width=400 controls><source src=\"{data_url}\" type=\"video/mp4\">\n",
        "\n",
        "</video>\"\"\")"
      ],
      "metadata": {
        "id": "xNtomEvmjcAV"
      },
      "execution_count": null,
      "outputs": []
    },
    {
      "cell_type": "code",
      "source": [
        "from IPython.display import display, HTML, Video\n",
        "\n",
        "video_path = '/content/runs/segment/predict3/football.mp4'\n",
        "\n",
        "# Hiển thị video\n",
        "display(Video(video_path, embed=True))"
      ],
      "metadata": {
        "id": "VBfEXiE0mwIO"
      },
      "execution_count": null,
      "outputs": []
    }
  ],
  "metadata": {
    "colab": {
      "provenance": [],
      "toc_visible": true,
      "authorship_tag": "ABX9TyNDNvnuqUXcJyhlPcgzepFw",
      "include_colab_link": true
    },
    "kernelspec": {
      "display_name": "Python 3",
      "name": "python3"
    },
    "language_info": {
      "name": "python"
    }
  },
  "nbformat": 4,
  "nbformat_minor": 0
}